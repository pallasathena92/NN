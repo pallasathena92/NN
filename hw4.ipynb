{
  "nbformat": 4,
  "nbformat_minor": 0,
  "metadata": {
    "colab": {
      "name": "hw4.ipynb",
      "version": "0.3.2",
      "provenance": []
    },
    "language_info": {
      "codemirror_mode": {
        "name": "ipython",
        "version": 3
      },
      "file_extension": ".py",
      "mimetype": "text/x-python",
      "name": "python",
      "nbconvert_exporter": "python",
      "pygments_lexer": "ipython3",
      "version": "3.6.4"
    },
    "kernelspec": {
      "name": "python3",
      "display_name": "Python 3"
    },
    "accelerator": "GPU"
  },
  "cells": [
    {
      "cell_type": "markdown",
      "metadata": {
        "id": "sFIZcZ5qjPO_",
        "colab_type": "text"
      },
      "source": [
        "# Home 4: Build a seq2seq model for machine translation.\n",
        "\n",
        "### Name: [Your-Name?]\n",
        "\n",
        "### Task: Translate English to [what-language?]"
      ]
    },
    {
      "cell_type": "markdown",
      "metadata": {
        "id": "-BW3CEsVjPPC",
        "colab_type": "text"
      },
      "source": [
        "## 0. You will do the following:\n",
        "\n",
        "1. Read and run my code.\n",
        "2. Complete the code in Section 1.1 and Section 4.2.\n",
        "\n",
        "    * Translation English to **German** is not acceptable!!! Try another language.\n",
        "    \n",
        "3. **Make improvements.** Directly modify the code in Section 3. Do at least one of the followings. By doing more, you will get up to 2 bonus scores to the total.\n",
        "\n",
        "    * Bi-LSTM instead of LSTM\n",
        "    \n",
        "    * Multi-task learning (e.g., both English to French and English to Spanish)\n",
        "    \n",
        "    * Attention\n",
        "    \n",
        "4. Evaluate the translation using the BLEU score. \n",
        "\n",
        "    * Optional. Up to 2 bonus scores to the total.\n",
        "    \n",
        "5. Convert the notebook to .HTML file. \n",
        "\n",
        "    * The HTML file must contain the code and the output after execution.\n",
        "\n",
        "6. Put the .HTML file in your own Github repo. \n",
        "\n",
        "7. Submit the link to the HTML file to Canvas\n",
        "\n",
        "    * E.g., https://github.com/wangshusen/CS583A-2019Spring/blob/master/homework/HM4/seq2seq.html"
      ]
    },
    {
      "cell_type": "markdown",
      "metadata": {
        "id": "_K6Kns2-jPPE",
        "colab_type": "text"
      },
      "source": [
        "#### Hint: To implement Bi-LSTM, you will need the following code to build the encoder; the decoder won't be much different."
      ]
    },
    {
      "cell_type": "code",
      "metadata": {
        "id": "0LqatQScjPPG",
        "colab_type": "code",
        "colab": {}
      },
      "source": [
        "from keras.layers import Bidirectional, Concatenate\n",
        "\n",
        "encoder_bilstm = Bidirectional(LSTM(latent_dim, return_state=True, \n",
        "                                  dropout=0.5, name='encoder_lstm'))\n",
        "_, forward_h, forward_c, backward_h, backward_c = encoder_bilstm(encoder_inputs)\n",
        "\n",
        "state_h = Concatenate()([forward_h, backward_h])\n",
        "state_c = Concatenate()([forward_c, backward_c])"
      ],
      "execution_count": 0,
      "outputs": []
    },
    {
      "cell_type": "code",
      "metadata": {
        "id": "NqzwE3hIjPPQ",
        "colab_type": "code",
        "colab": {}
      },
      "source": [
        ""
      ],
      "execution_count": 0,
      "outputs": []
    },
    {
      "cell_type": "markdown",
      "metadata": {
        "id": "Padryg27jPPW",
        "colab_type": "text"
      },
      "source": [
        "## 1. Data preparation\n",
        "\n",
        "1. Download data (e.g., \"deu-eng.zip\") from http://www.manythings.org/anki/\n",
        "2. Unzip the .ZIP file.\n",
        "3. Put the .TXT file (e.g., \"deu.txt\") in the directory \"./Data/\"."
      ]
    },
    {
      "cell_type": "markdown",
      "metadata": {
        "id": "g6fIlNs_jPPY",
        "colab_type": "text"
      },
      "source": [
        "### 1.1. Load and clean text\n"
      ]
    },
    {
      "cell_type": "code",
      "metadata": {
        "id": "oWG5o8pBjPPa",
        "colab_type": "code",
        "colab": {}
      },
      "source": [
        "import re\n",
        "import string\n",
        "from unicodedata import normalize\n",
        "import numpy\n",
        "\n",
        "# load doc into memory\n",
        "def load_doc(filename):\n",
        "    # open the file as read only\n",
        "    file = open(filename, mode='rt', encoding='utf-8')\n",
        "    # read all text\n",
        "    text = file.read()\n",
        "    # close the file\n",
        "    file.close()\n",
        "    return text\n",
        "\n",
        "\n",
        "# split a loaded document into sentences\n",
        "def to_pairs(doc):\n",
        "    lines = doc.strip().split('\\n')\n",
        "    pairs = [line.split('\\t') for line in  lines]\n",
        "    return pairs\n",
        "\n",
        "def clean_data(lines):\n",
        "    cleaned = list()\n",
        "    # prepare regex for char filtering\n",
        "    re_print = re.compile('[^%s]' % re.escape(string.printable))\n",
        "    # prepare translation table for removing punctuation\n",
        "    table = str.maketrans('', '', string.punctuation)\n",
        "    for pair in lines:\n",
        "        clean_pair = list()\n",
        "        for line in pair:\n",
        "            # normalize unicode characters\n",
        "            line = normalize('NFD', line).encode('ascii', 'ignore')\n",
        "            line = line.decode('UTF-8')\n",
        "            # tokenize on white space\n",
        "            line = line.split()\n",
        "            # convert to lowercase\n",
        "            line = [word.lower() for word in line]\n",
        "            # remove punctuation from each token\n",
        "            line = [word.translate(table) for word in line]\n",
        "            # remove non-printable chars form each token\n",
        "            line = [re_print.sub('', w) for w in line]\n",
        "            # remove tokens with numbers in them\n",
        "            line = [word for word in line if word.isalpha()]\n",
        "            # store as string\n",
        "            clean_pair.append(' '.join(line))\n",
        "        cleaned.append(clean_pair)\n",
        "    return numpy.array(cleaned)"
      ],
      "execution_count": 0,
      "outputs": []
    },
    {
      "cell_type": "markdown",
      "metadata": {
        "id": "czGLjki3jPPf",
        "colab_type": "text"
      },
      "source": [
        "#### Fill the following blanks:"
      ]
    },
    {
      "cell_type": "code",
      "metadata": {
        "id": "0XFmY0HYjPPg",
        "colab_type": "code",
        "colab": {}
      },
      "source": [
        "# e.g., filename = 'Data/deu.txt'\n",
        "filename_fra = 'fra.txt'\n",
        "filename_ita = 'ita.txt'\n",
        "# e.g., n_train = 20000\n",
        "n_train = 4000"
      ],
      "execution_count": 0,
      "outputs": []
    },
    {
      "cell_type": "code",
      "metadata": {
        "id": "Zm_wdniPjPPk",
        "colab_type": "code",
        "colab": {}
      },
      "source": [
        "# load dataset\n",
        "doc_fra = load_doc(filename_fra)\n",
        "doc_ita = load_doc(filename_ita)\n",
        "\n",
        "# split into Language1-Language2 pairs\n",
        "pairs_fra = to_pairs(doc_fra)\n",
        "pairs_ita = to_pairs(doc_ita)\n",
        "\n",
        "# clean sentences\n",
        "clean_pairs_fra = clean_data(pairs_fra)[0:n_train, :]\n",
        "clean_pairs_ita = clean_data(pairs_ita)[0:n_train, :]"
      ],
      "execution_count": 0,
      "outputs": []
    },
    {
      "cell_type": "code",
      "metadata": {
        "id": "fT1xy4ab02_1",
        "colab_type": "code",
        "outputId": "5f540418-0fac-4a1e-b92f-fe46ed54d5b0",
        "colab": {
          "base_uri": "https://localhost:8080/",
          "height": 140
        }
      },
      "source": [
        "clean_pairs_ita"
      ],
      "execution_count": 4,
      "outputs": [
        {
          "output_type": "execute_result",
          "data": {
            "text/plain": [
              "array([['hi', 'ciao'],\n",
              "       ['run', 'corri'],\n",
              "       ['run', 'corra'],\n",
              "       ...,\n",
              "       ['are you new', 'siete nuove'],\n",
              "       ['are you new', 'e nuovo'],\n",
              "       ['are you new', 'e nuova']], dtype='<U313')"
            ]
          },
          "metadata": {
            "tags": []
          },
          "execution_count": 4
        }
      ]
    },
    {
      "cell_type": "code",
      "metadata": {
        "id": "S-rEPxXmjPPo",
        "colab_type": "code",
        "outputId": "5973e668-33d1-4a93-a419-321372bf46b4",
        "colab": {
          "base_uri": "https://localhost:8080/",
          "height": 193
        }
      },
      "source": [
        "for i in range(3000, 3010):\n",
        "    print('[' + clean_pairs_ita[i, 0] + '] => [' + clean_pairs_ita[i, 1] + ']')"
      ],
      "execution_count": 5,
      "outputs": [
        {
          "output_type": "stream",
          "text": [
            "[im flabby] => [io sono fiacco]\n",
            "[im flabby] => [sono fiacca]\n",
            "[im flabby] => [io sono fiacca]\n",
            "[im for it] => [sono a favore]\n",
            "[im for it] => [io sono a favore]\n",
            "[im frugal] => [sono parsimonioso]\n",
            "[im greedy] => [sono avido]\n",
            "[im greedy] => [io sono avido]\n",
            "[im greedy] => [sono avida]\n",
            "[im greedy] => [io sono avida]\n"
          ],
          "name": "stdout"
        }
      ]
    },
    {
      "cell_type": "code",
      "metadata": {
        "id": "bROXY69pjPPs",
        "colab_type": "code",
        "outputId": "dc4eaf67-11bb-40d1-bb0f-71672beb9ac1",
        "colab": {
          "base_uri": "https://localhost:8080/",
          "height": 70
        }
      },
      "source": [
        "input_texts_fra = clean_pairs_fra[:, 0]\n",
        "target_texts_fra = ['\\t' + text + '\\n' for text in clean_pairs_fra[:, 1]]\n",
        "\n",
        "print('Length of input_texts_fra:  ' + str(input_texts_fra.shape))\n",
        "#print('Length of target_texts_fra: ' + str(target_texts_fra.shape))\n",
        "\n",
        "\n",
        "input_texts_ita = clean_pairs_ita[:, 0]\n",
        "target_texts_ita = ['\\t' + text + '\\n' for text in clean_pairs_ita[:, 1]]\n",
        "print('==========================================')\n",
        "print('Length of input_texts_ita:  ' + str(input_texts_ita.shape))\n",
        "#print('Length of target_texts_ita: ' + str(target_texts_ita.shape))"
      ],
      "execution_count": 6,
      "outputs": [
        {
          "output_type": "stream",
          "text": [
            "Length of input_texts_fra:  (4000,)\n",
            "==========================================\n",
            "Length of input_texts_ita:  (4000,)\n"
          ],
          "name": "stdout"
        }
      ]
    },
    {
      "cell_type": "code",
      "metadata": {
        "id": "fNSSmXd3jPPw",
        "colab_type": "code",
        "outputId": "b8f72117-507f-4055-983f-2819f2868e6a",
        "colab": {
          "base_uri": "https://localhost:8080/",
          "height": 52
        }
      },
      "source": [
        "max_encoder_seq_length_fra = max(len(line) for line in input_texts_fra)\n",
        "max_decoder_seq_length_fra = max(len(line) for line in target_texts_fra)\n",
        "\n",
        "print('max length of fra input  sentences: %d' % (max_encoder_seq_length_fra))\n",
        "print('max length of fra target sentences: %d' % (max_decoder_seq_length_fra))"
      ],
      "execution_count": 7,
      "outputs": [
        {
          "output_type": "stream",
          "text": [
            "max length of fra input  sentences: 12\n",
            "max length of fra target sentences: 56\n"
          ],
          "name": "stdout"
        }
      ]
    },
    {
      "cell_type": "code",
      "metadata": {
        "id": "brvCu0_ek6Bn",
        "colab_type": "code",
        "colab": {
          "base_uri": "https://localhost:8080/",
          "height": 52
        },
        "outputId": "d5f31156-12a1-4fac-f23c-c49113ea95d5"
      },
      "source": [
        "max_encoder_seq_length_ita = max(len(line) for line in input_texts_ita)\n",
        "max_decoder_seq_length_ita = max(len(line) for line in target_texts_ita)\n",
        "\n",
        "print('max length of ita input  sentences: %d' % (max_encoder_seq_length_ita))\n",
        "print('max length of ita target sentences: %d' % (max_decoder_seq_length_ita))"
      ],
      "execution_count": 8,
      "outputs": [
        {
          "output_type": "stream",
          "text": [
            "max length of ita input  sentences: 11\n",
            "max length of ita target sentences: 34\n"
          ],
          "name": "stdout"
        }
      ]
    },
    {
      "cell_type": "markdown",
      "metadata": {
        "id": "ARwPO-YejPP0",
        "colab_type": "text"
      },
      "source": [
        "**Remark:** To this end, you have two lists of sentences: input_texts and target_texts"
      ]
    },
    {
      "cell_type": "markdown",
      "metadata": {
        "id": "UsuFZ856jPP1",
        "colab_type": "text"
      },
      "source": [
        "## 2. Text processing\n",
        "\n",
        "### 2.1. Convert texts to sequences\n",
        "\n",
        "- Input: A list of $n$ sentences (with max length $t$).\n",
        "- It is represented by a $n\\times t$ matrix after the tokenization and zero-padding."
      ]
    },
    {
      "cell_type": "code",
      "metadata": {
        "id": "ijCk-BxPjPP2",
        "colab_type": "code",
        "outputId": "9f452911-13da-4dfc-eba3-3ea3639ad012",
        "colab": {
          "base_uri": "https://localhost:8080/",
          "height": 193
        }
      },
      "source": [
        "from keras.preprocessing.text import Tokenizer\n",
        "from keras.preprocessing.sequence import pad_sequences\n",
        "\n",
        "# encode and pad sequences\n",
        "def text2sequences(max_len, lines):\n",
        "    tokenizer = Tokenizer(char_level=True, filters='')\n",
        "    tokenizer.fit_on_texts(lines)\n",
        "    seqs = tokenizer.texts_to_sequences(lines)\n",
        "    seqs_pad = pad_sequences(seqs, maxlen=max_len, padding='post')\n",
        "    return seqs_pad, tokenizer.word_index\n",
        "\n",
        "\n",
        "encoder_input_seq_fra, input_token_index_fra = text2sequences(max_encoder_seq_length_fra, \n",
        "                                                      input_texts_fra)\n",
        "decoder_input_seq_fra, target_token_index_fra = text2sequences(max_decoder_seq_length_fra, \n",
        "                                                       target_texts_fra)\n",
        "\n",
        "\n",
        "encoder_input_seq_ita, input_token_index_ita = text2sequences(max_encoder_seq_length_ita, \n",
        "                                                      input_texts_ita)\n",
        "decoder_input_seq_ita, target_token_index_ita = text2sequences(max_decoder_seq_length_ita, \n",
        "                                                       target_texts_ita)\n",
        "print('shape of encoder_input_seq_fra: ' + str(encoder_input_seq_fra.shape))\n",
        "print('shape of input_token_index_fra: ' + str(len(input_token_index_fra)))\n",
        "print('shape of decoder_input_seq_fra: ' + str(decoder_input_seq_fra.shape))\n",
        "print('shape of target_token_index_fra: ' + str(len(target_token_index_fra)))\n",
        "\n",
        "\n",
        "print('====================================')\n",
        "print('shape of encoder_input_seq_ita: ' + str(encoder_input_seq_ita.shape))\n",
        "print('shape of input_token_index_ita: ' + str(len(input_token_index_ita)))\n",
        "print('shape of decoder_input_seq_ita: ' + str(decoder_input_seq_ita.shape))\n",
        "print('shape of target_token_index_ita: ' + str(len(target_token_index_ita)))"
      ],
      "execution_count": 9,
      "outputs": [
        {
          "output_type": "stream",
          "text": [
            "Using TensorFlow backend.\n"
          ],
          "name": "stderr"
        },
        {
          "output_type": "stream",
          "text": [
            "shape of encoder_input_seq_fra: (4000, 12)\n",
            "shape of input_token_index_fra: 27\n",
            "shape of decoder_input_seq_fra: (4000, 56)\n",
            "shape of target_token_index_fra: 28\n",
            "====================================\n",
            "shape of encoder_input_seq_ita: (4000, 11)\n",
            "shape of input_token_index_ita: 27\n",
            "shape of decoder_input_seq_ita: (4000, 34)\n",
            "shape of target_token_index_ita: 28\n"
          ],
          "name": "stdout"
        }
      ]
    },
    {
      "cell_type": "code",
      "metadata": {
        "id": "Fpkiu2dHS7Y7",
        "colab_type": "code",
        "outputId": "4db3dfd3-85d3-4608-c4aa-292e7d219770",
        "colab": {
          "base_uri": "https://localhost:8080/",
          "height": 35
        }
      },
      "source": [
        "encoder_input_seq_ita.shape"
      ],
      "execution_count": 11,
      "outputs": [
        {
          "output_type": "execute_result",
          "data": {
            "text/plain": [
              "(4000, 11)"
            ]
          },
          "metadata": {
            "tags": []
          },
          "execution_count": 11
        }
      ]
    },
    {
      "cell_type": "code",
      "metadata": {
        "id": "n81-HnlcjPP5",
        "colab_type": "code",
        "outputId": "a99f4c90-cd06-44cb-c866-f5b8c80850b4",
        "colab": {
          "base_uri": "https://localhost:8080/",
          "height": 87
        }
      },
      "source": [
        "num_encoder_tokens_fra = len(input_token_index_fra) + 1\n",
        "num_decoder_tokens_fra = len(target_token_index_fra) + 1\n",
        "\n",
        "print('num_encoder_tokens_fra: ' + str(num_encoder_tokens_fra))\n",
        "print('num_decoder_tokens_fra: ' + str(num_decoder_tokens_fra))\n",
        "\n",
        "\n",
        "num_encoder_tokens_ita = len(input_token_index_ita) + 1\n",
        "num_decoder_tokens_ita = len(target_token_index_ita) + 1\n",
        "\n",
        "print('num_encoder_tokens_ita: ' + str(num_encoder_tokens_ita))\n",
        "print('num_decoder_tokens_ita: ' + str(num_decoder_tokens_ita))"
      ],
      "execution_count": 12,
      "outputs": [
        {
          "output_type": "stream",
          "text": [
            "num_encoder_tokens_fra: 28\n",
            "num_decoder_tokens_fra: 29\n",
            "num_encoder_tokens_ita: 28\n",
            "num_decoder_tokens_ita: 29\n"
          ],
          "name": "stdout"
        }
      ]
    },
    {
      "cell_type": "markdown",
      "metadata": {
        "id": "i04UcXI8jPP8",
        "colab_type": "text"
      },
      "source": [
        "**Remark:** To this end, the input language and target language texts are converted to 2 matrices. \n",
        "\n",
        "- Their number of rows are both n_train.\n",
        "- Their number of columns are respective max_encoder_seq_length and max_decoder_seq_length."
      ]
    },
    {
      "cell_type": "markdown",
      "metadata": {
        "id": "Du62-12jjPP8",
        "colab_type": "text"
      },
      "source": [
        "The followings print a sentence and its representation as a sequence."
      ]
    },
    {
      "cell_type": "code",
      "metadata": {
        "id": "wKpyX-SojPP9",
        "colab_type": "code",
        "outputId": "90477b64-e595-466d-80c4-f634aa9cd44b",
        "colab": {
          "base_uri": "https://localhost:8080/",
          "height": 35
        }
      },
      "source": [
        "target_texts_ita[100]"
      ],
      "execution_count": 13,
      "outputs": [
        {
          "output_type": "execute_result",
          "data": {
            "text/plain": [
              "'\\tlavoro ai ferri\\n'"
            ]
          },
          "metadata": {
            "tags": []
          },
          "execution_count": 13
        }
      ]
    },
    {
      "cell_type": "code",
      "metadata": {
        "id": "NSaWDxDyjPQA",
        "colab_type": "code",
        "outputId": "a64a659a-d0d1-4666-fec7-4170fe4fbb8b",
        "colab": {
          "base_uri": "https://localhost:8080/",
          "height": 70
        }
      },
      "source": [
        "decoder_input_seq_ita[100, :]"
      ],
      "execution_count": 14,
      "outputs": [
        {
          "output_type": "execute_result",
          "data": {
            "text/plain": [
              "array([ 5, 13,  3, 18,  1, 11,  1,  2,  3,  4,  2, 21,  7, 11, 11,  4,  6,\n",
              "        0,  0,  0,  0,  0,  0,  0,  0,  0,  0,  0,  0,  0,  0,  0,  0,  0],\n",
              "      dtype=int32)"
            ]
          },
          "metadata": {
            "tags": []
          },
          "execution_count": 14
        }
      ]
    },
    {
      "cell_type": "markdown",
      "metadata": {
        "id": "bee47AJgjPQD",
        "colab_type": "text"
      },
      "source": [
        "## 2.2. One-hot encode\n",
        "\n",
        "- Input: A list of $n$ sentences (with max length $t$).\n",
        "- It is represented by a $n\\times t$ matrix after the tokenization and zero-padding.\n",
        "- It is represented by a $n\\times t \\times v$ tensor ($t$ is the number of unique chars) after the one-hot encoding."
      ]
    },
    {
      "cell_type": "code",
      "metadata": {
        "id": "Ex0pawvtjPQD",
        "colab_type": "code",
        "outputId": "1a452e0d-103f-437e-fbe8-b6d4da037da1",
        "colab": {
          "base_uri": "https://localhost:8080/",
          "height": 105
        }
      },
      "source": [
        "from keras.utils import to_categorical\n",
        "\n",
        "# one hot encode target sequence\n",
        "def onehot_encode(sequences, max_len, vocab_size):\n",
        "    n = len(sequences)\n",
        "    data = numpy.zeros((n, max_len, vocab_size))\n",
        "    for i in range(n):\n",
        "        data[i, :, :] = to_categorical(sequences[i], num_classes=vocab_size)\n",
        "    return data\n",
        "\n",
        "encoder_input_data_fra = onehot_encode(encoder_input_seq_fra, max_encoder_seq_length_fra, num_encoder_tokens_fra)\n",
        "decoder_input_data_fra = onehot_encode(decoder_input_seq_fra, max_decoder_seq_length_fra, num_decoder_tokens_fra)\n",
        "\n",
        "decoder_target_seq_fra = numpy.zeros(decoder_input_seq_fra.shape)\n",
        "decoder_target_seq_fra[:, 0:-1] = decoder_input_seq_fra[:, 1:]\n",
        "decoder_target_data_fra = onehot_encode(decoder_target_seq_fra, \n",
        "                                    max_decoder_seq_length_fra, \n",
        "                                    num_decoder_tokens_fra)\n",
        "\n",
        "\n",
        "\n",
        "encoder_input_data_ita = onehot_encode(encoder_input_seq_ita, max_encoder_seq_length_ita, num_encoder_tokens_ita)\n",
        "decoder_input_data_ita = onehot_encode(decoder_input_seq_ita, max_decoder_seq_length_ita, num_decoder_tokens_ita)\n",
        "\n",
        "decoder_target_seq_ita = numpy.zeros(decoder_input_seq_ita.shape)\n",
        "decoder_target_seq_ita[:, 0:-1] = decoder_input_seq_ita[:, 1:]\n",
        "decoder_target_data_ita = onehot_encode(decoder_target_seq_ita, \n",
        "                                    max_decoder_seq_length_ita, \n",
        "                                    num_decoder_tokens_ita)\n",
        "print(encoder_input_data_fra.shape)\n",
        "print(decoder_input_data_fra.shape)\n",
        "print('=====================================')\n",
        "print(encoder_input_data_ita.shape)\n",
        "print(decoder_input_data_ita.shape)"
      ],
      "execution_count": 15,
      "outputs": [
        {
          "output_type": "stream",
          "text": [
            "(4000, 12, 28)\n",
            "(4000, 56, 29)\n",
            "=====================================\n",
            "(4000, 11, 28)\n",
            "(4000, 34, 29)\n"
          ],
          "name": "stdout"
        }
      ]
    },
    {
      "cell_type": "markdown",
      "metadata": {
        "id": "BiI21SKVjPQG",
        "colab_type": "text"
      },
      "source": [
        "## 3. Build the networks (for training)\n",
        "\n",
        "- Build encoder, decoder, and connect the two modules to get \"model\". \n",
        "\n",
        "- Fit the model on the bilingual data to train the parameters in the encoder and decoder."
      ]
    },
    {
      "cell_type": "markdown",
      "metadata": {
        "id": "ntj489R9jPQH",
        "colab_type": "text"
      },
      "source": [
        "### 3.1. Encoder network\n",
        "\n",
        "- Input:  one-hot encode of the input language\n",
        "\n",
        "- Return: \n",
        "\n",
        "    -- output (all the hidden states   $h_1, \\cdots , h_t$) are always discarded\n",
        "    \n",
        "    -- the final hidden state  $h_t$\n",
        "    \n",
        "    -- the final conveyor belt $c_t$"
      ]
    },
    {
      "cell_type": "code",
      "metadata": {
        "id": "qatf2I6pjPQI",
        "colab_type": "code",
        "colab": {}
      },
      "source": [
        "from keras.layers import Input, LSTM\n",
        "from keras.models import Model\n",
        "from keras.layers import Bidirectional, Concatenate\n",
        "\n",
        "latent_dim = 256\n",
        "def encoder(num_encoder_tokens):\n",
        "    # inputs of the encoder network\n",
        "    encoder_inputs = Input(shape=(None, num_encoder_tokens), \n",
        "                           name='encoder_inputs')\n",
        "\n",
        "    # set the BI-LSTM layer\n",
        "    '''encoder_lstm = LSTM(latent_dim, return_state=True, \n",
        "                       dropout=0.5, name='encoder_lstm')\n",
        "    _, state_h, state_c = encoder_lstm(encoder_inputs)'''\n",
        "    encoder_bilstm = Bidirectional(LSTM(latent_dim, return_state=True, \n",
        "                                      dropout=0.5, name='encoder_lstm'))\n",
        "    _, forward_h, forward_c, backward_h, backward_c = encoder_bilstm(encoder_inputs)\n",
        "\n",
        "    state_h = Concatenate()([forward_h, backward_h])\n",
        "    state_c = Concatenate()([forward_c, backward_c])\n",
        "\n",
        "    # build the encoder network model\n",
        "    encoder_model = Model(inputs=encoder_inputs, \n",
        "                          outputs=[state_h, state_c],\n",
        "                          name='encoder')\n",
        "    return encoder_model\n"
      ],
      "execution_count": 0,
      "outputs": []
    },
    {
      "cell_type": "code",
      "metadata": {
        "id": "A4EPoUk6qIY3",
        "colab_type": "code",
        "colab": {}
      },
      "source": [
        "encoder_model_fra = encoder(num_encoder_tokens_fra)\n",
        "encoder_model_ita = encoder(num_encoder_tokens_ita)"
      ],
      "execution_count": 0,
      "outputs": []
    },
    {
      "cell_type": "markdown",
      "metadata": {
        "id": "vQDo6oEAjPQK",
        "colab_type": "text"
      },
      "source": [
        "Print a summary and save the encoder network structure to \"./encoder.pdf\""
      ]
    },
    {
      "cell_type": "code",
      "metadata": {
        "id": "XQt9kZ2VjPQL",
        "colab_type": "code",
        "colab": {}
      },
      "source": [
        "from IPython.display import SVG\n",
        "from keras.utils.vis_utils import model_to_dot, plot_model\n",
        "\n",
        "def plot_encoder_summary(encoder_model):\n",
        "    SVG(model_to_dot(encoder_model, show_shapes=False).create(prog='dot', format='svg'))\n",
        "\n",
        "    plot_model(\n",
        "        model=encoder_model, show_shapes=False,\n",
        "        to_file='encoder.pdf'\n",
        "    )\n",
        "\n",
        "    encoder_model.summary()"
      ],
      "execution_count": 0,
      "outputs": []
    },
    {
      "cell_type": "code",
      "metadata": {
        "id": "Ci1A78IsFEqA",
        "colab_type": "code",
        "colab": {
          "base_uri": "https://localhost:8080/",
          "height": 671
        },
        "outputId": "af23c5cc-a7d9-48f1-9662-5bc693446c60"
      },
      "source": [
        "print('===============')\n",
        "plot_encoder_summary(encoder_model_fra)\n",
        "\n",
        "print('===============')\n",
        "plot_encoder_summary(encoder_model_ita)"
      ],
      "execution_count": 33,
      "outputs": [
        {
          "output_type": "stream",
          "text": [
            "===============\n",
            "__________________________________________________________________________________________________\n",
            "Layer (type)                    Output Shape         Param #     Connected to                     \n",
            "==================================================================================================\n",
            "encoder_inputs (InputLayer)     (None, None, 28)     0                                            \n",
            "__________________________________________________________________________________________________\n",
            "bidirectional_5 (Bidirectional) [(None, 512), (None, 583680      encoder_inputs[0][0]             \n",
            "__________________________________________________________________________________________________\n",
            "concatenate_9 (Concatenate)     (None, 512)          0           bidirectional_5[0][1]            \n",
            "                                                                 bidirectional_5[0][3]            \n",
            "__________________________________________________________________________________________________\n",
            "concatenate_10 (Concatenate)    (None, 512)          0           bidirectional_5[0][2]            \n",
            "                                                                 bidirectional_5[0][4]            \n",
            "==================================================================================================\n",
            "Total params: 583,680\n",
            "Trainable params: 583,680\n",
            "Non-trainable params: 0\n",
            "__________________________________________________________________________________________________\n",
            "===============\n",
            "__________________________________________________________________________________________________\n",
            "Layer (type)                    Output Shape         Param #     Connected to                     \n",
            "==================================================================================================\n",
            "encoder_inputs (InputLayer)     (None, None, 28)     0                                            \n",
            "__________________________________________________________________________________________________\n",
            "bidirectional_6 (Bidirectional) [(None, 512), (None, 583680      encoder_inputs[0][0]             \n",
            "__________________________________________________________________________________________________\n",
            "concatenate_11 (Concatenate)    (None, 512)          0           bidirectional_6[0][1]            \n",
            "                                                                 bidirectional_6[0][3]            \n",
            "__________________________________________________________________________________________________\n",
            "concatenate_12 (Concatenate)    (None, 512)          0           bidirectional_6[0][2]            \n",
            "                                                                 bidirectional_6[0][4]            \n",
            "==================================================================================================\n",
            "Total params: 583,680\n",
            "Trainable params: 583,680\n",
            "Non-trainable params: 0\n",
            "__________________________________________________________________________________________________\n"
          ],
          "name": "stdout"
        }
      ]
    },
    {
      "cell_type": "markdown",
      "metadata": {
        "id": "eejEiUn9jPQR",
        "colab_type": "text"
      },
      "source": [
        "### 3.2. Decoder network\n",
        "\n",
        "- Inputs:  \n",
        "\n",
        "    -- one-hot encode of the target language\n",
        "    \n",
        "    -- The initial hidden state $h_t$ \n",
        "    \n",
        "    -- The initial conveyor belt $c_t$ \n",
        "\n",
        "- Return: \n",
        "\n",
        "    -- output (all the hidden states) $h_1, \\cdots , h_t$\n",
        "\n",
        "    -- the final hidden state  $h_t$ (discarded in the training and used in the prediction)\n",
        "    \n",
        "    -- the final conveyor belt $c_t$ (discarded in the training and used in the prediction)"
      ]
    },
    {
      "cell_type": "code",
      "metadata": {
        "id": "X2onw6HljPQS",
        "colab_type": "code",
        "colab": {}
      },
      "source": [
        "from keras.layers import Input, LSTM, Dense\n",
        "from keras.models import Model\n",
        "\n",
        "# inputs of the decoder network\n",
        "decoder_input_h_fra = Input(shape=(latent_dim*2,), name='decoder_input_h')\n",
        "decoder_input_c_fra = Input(shape=(latent_dim*2,), name='decoder_input_c')\n",
        "decoder_input_x_fra = Input(shape=(None, num_decoder_tokens_fra), name='decoder_input_x')\n",
        "\n",
        "# set the LSTM layer\n",
        "decoder_lstm = LSTM(latent_dim*2, return_sequences=True, \n",
        "                        return_state=True, dropout=0.5, name='decoder_lstm')\n",
        "decoder_lstm_outputs_fra, state_h_fra, state_c_fra = decoder_lstm(decoder_input_x_fra, \n",
        "                                                          initial_state=[decoder_input_h_fra, decoder_input_c_fra])\n",
        "\n",
        "# set the dense layer\n",
        "decoder_dense_fra = Dense(num_decoder_tokens_fra, activation='softmax', name='decoder_dense_fra')\n",
        "decoder_outputs_fra = decoder_dense_fra(decoder_lstm_outputs_fra)\n",
        "\n",
        "# build the decoder network model\n",
        "decoder_model_fra = Model(inputs=[decoder_input_x_fra, decoder_input_h_fra, decoder_input_c_fra],\n",
        "                          outputs=[decoder_outputs_fra, state_h_fra, state_c_fra],\n",
        "                          name='decoder_fra')\n",
        "    \n"
      ],
      "execution_count": 0,
      "outputs": []
    },
    {
      "cell_type": "code",
      "metadata": {
        "id": "kKAJEEPGKn2I",
        "colab_type": "code",
        "colab": {}
      },
      "source": [
        "from keras.layers import Input, LSTM, Dense\n",
        "from keras.models import Model\n",
        "\n",
        "# inputs of the decoder network\n",
        "decoder_input_h_ita = Input(shape=(latent_dim*2,), name='decoder_input_h')\n",
        "decoder_input_c_ita = Input(shape=(latent_dim*2,), name='decoder_input_c')\n",
        "decoder_input_x_ita = Input(shape=(None, num_decoder_tokens_ita), name='decoder_input_x')\n",
        "\n",
        "# set the LSTM layer\n",
        "decoder_lstm = LSTM(latent_dim*2, return_sequences=True, \n",
        "                        return_state=True, dropout=0.5, name='decoder_lstm')\n",
        "decoder_lstm_outputs_ita, state_h_ita, state_c_ita = decoder_lstm(decoder_input_x_ita, \n",
        "                                                          initial_state=[decoder_input_h_ita, decoder_input_c_ita])\n",
        "\n",
        "# set the dense layer\n",
        "decoder_dense_ita = Dense(num_decoder_tokens_ita, activation='softmax', name='decoder_dense_ita')\n",
        "decoder_outputs_ita = decoder_dense_ita(decoder_lstm_outputs_ita)\n",
        "\n",
        "# build the decoder network model\n",
        "decoder_model_ita = Model(inputs=[decoder_input_x_ita, decoder_input_h_ita, decoder_input_c_ita],\n",
        "                          outputs=[decoder_outputs_ita, state_h_ita, state_c_ita],\n",
        "                          name='decoder_ita')\n",
        "    \n"
      ],
      "execution_count": 0,
      "outputs": []
    },
    {
      "cell_type": "markdown",
      "metadata": {
        "id": "3bP3b62kjPQY",
        "colab_type": "text"
      },
      "source": [
        "Print a summary and save the encoder network structure to \"./decoder.pdf\""
      ]
    },
    {
      "cell_type": "code",
      "metadata": {
        "id": "zGKFgjCpjPQZ",
        "colab_type": "code",
        "colab": {}
      },
      "source": [
        "from IPython.display import SVG\n",
        "from keras.utils.vis_utils import model_to_dot, plot_model\n",
        "\n",
        "def plot_decoder_model(decoder_model):\n",
        "    SVG(model_to_dot(decoder_model, show_shapes=False).create(prog='dot', format='svg'))\n",
        "\n",
        "    plot_model(\n",
        "        model=decoder_model, show_shapes=False,\n",
        "        to_file='decoder.pdf'\n",
        "    )\n",
        "\n",
        "    decoder_model.summary()"
      ],
      "execution_count": 0,
      "outputs": []
    },
    {
      "cell_type": "code",
      "metadata": {
        "id": "DO7OdNqsGoDB",
        "colab_type": "code",
        "colab": {
          "base_uri": "https://localhost:8080/",
          "height": 723
        },
        "outputId": "e97456f2-bf8e-4cfa-9156-cf08b89df36c"
      },
      "source": [
        "plot_decoder_model(decoder_model_fra)\n",
        "print('================================')\n",
        "plot_decoder_model(decoder_model_ita)"
      ],
      "execution_count": 67,
      "outputs": [
        {
          "output_type": "stream",
          "text": [
            "__________________________________________________________________________________________________\n",
            "Layer (type)                    Output Shape         Param #     Connected to                     \n",
            "==================================================================================================\n",
            "decoder_input_x (InputLayer)    (None, None, 29)     0                                            \n",
            "__________________________________________________________________________________________________\n",
            "decoder_input_h (InputLayer)    (None, 512)          0                                            \n",
            "__________________________________________________________________________________________________\n",
            "decoder_input_c (InputLayer)    (None, 512)          0                                            \n",
            "__________________________________________________________________________________________________\n",
            "decoder_lstm (LSTM)             [(None, None, 512),  1110016     decoder_input_x[0][0]            \n",
            "                                                                 decoder_input_h[0][0]            \n",
            "                                                                 decoder_input_c[0][0]            \n",
            "__________________________________________________________________________________________________\n",
            "decoder_dense_fra (Dense)       (None, None, 29)     14877       decoder_lstm[0][0]               \n",
            "==================================================================================================\n",
            "Total params: 1,124,893\n",
            "Trainable params: 1,124,893\n",
            "Non-trainable params: 0\n",
            "__________________________________________________________________________________________________\n",
            "================================\n",
            "__________________________________________________________________________________________________\n",
            "Layer (type)                    Output Shape         Param #     Connected to                     \n",
            "==================================================================================================\n",
            "decoder_input_x (InputLayer)    (None, None, 29)     0                                            \n",
            "__________________________________________________________________________________________________\n",
            "decoder_input_h (InputLayer)    (None, 512)          0                                            \n",
            "__________________________________________________________________________________________________\n",
            "decoder_input_c (InputLayer)    (None, 512)          0                                            \n",
            "__________________________________________________________________________________________________\n",
            "decoder_lstm (LSTM)             [(None, None, 512),  1110016     decoder_input_x[0][0]            \n",
            "                                                                 decoder_input_h[0][0]            \n",
            "                                                                 decoder_input_c[0][0]            \n",
            "__________________________________________________________________________________________________\n",
            "decoder_dense_ita (Dense)       (None, None, 29)     14877       decoder_lstm[0][0]               \n",
            "==================================================================================================\n",
            "Total params: 1,124,893\n",
            "Trainable params: 1,124,893\n",
            "Non-trainable params: 0\n",
            "__________________________________________________________________________________________________\n"
          ],
          "name": "stdout"
        }
      ]
    },
    {
      "cell_type": "markdown",
      "metadata": {
        "id": "FrjIm4EEjPQc",
        "colab_type": "text"
      },
      "source": [
        "### 3.3. Connect the encoder and decoder"
      ]
    },
    {
      "cell_type": "code",
      "metadata": {
        "id": "USV4z8kyjPQd",
        "colab_type": "code",
        "colab": {}
      },
      "source": [
        "# input layers\n",
        "encoder_input_x = Input(shape=(None, num_encoder_tokens_fra), name='encoder_input_x_fra')\n",
        "decoder_input_x_fra = Input(shape=(None, num_decoder_tokens_fra), name='decoder_input_x_fra')\n",
        "decoder_input_x_ita = Input(shape=(None, num_decoder_tokens_ita), name='decoder_input_x_ita')\n",
        "\n",
        "\n",
        "# connect encoder to decoder\n",
        "encoder_final_states = encoder_model_fra([encoder_input_x])\n",
        "decoder_lstm_output_fra, _, _ = decoder_lstm(decoder_input_x_fra, initial_state=encoder_final_states)\n",
        "decoder_pred_fra = decoder_dense_fra(decoder_lstm_output_fra)\n",
        "\n",
        "decoder_lstm_output_ita, _, _ = decoder_lstm(decoder_input_x_ita, initial_state=encoder_final_states)\n",
        "decoder_pred_ita = decoder_dense_ita(decoder_lstm_output_ita)\n",
        "\n",
        "model = Model(inputs=[encoder_input_x, decoder_input_x_fra, decoder_input_x_ita], \n",
        "              outputs=[decoder_pred_fra,decoder_pred_ita], \n",
        "              name='model_training')"
      ],
      "execution_count": 0,
      "outputs": []
    },
    {
      "cell_type": "code",
      "metadata": {
        "id": "J6k4PGqnjPQf",
        "colab_type": "code",
        "outputId": "ecebb356-ab96-4fdf-e87a-7448266ef961",
        "colab": {
          "base_uri": "https://localhost:8080/",
          "height": 52
        }
      },
      "source": [
        "print(state_h_ita)\n",
        "print(decoder_input_h_ita)"
      ],
      "execution_count": 65,
      "outputs": [
        {
          "output_type": "stream",
          "text": [
            "Tensor(\"decoder_lstm_11/while/Exit_2:0\", shape=(?, 512), dtype=float32)\n",
            "Tensor(\"decoder_input_h_8:0\", shape=(?, 512), dtype=float32)\n"
          ],
          "name": "stdout"
        }
      ]
    },
    {
      "cell_type": "code",
      "metadata": {
        "id": "tGLcIjQUjPQj",
        "colab_type": "code",
        "outputId": "4ab7c9b2-6cb7-4bcf-8785-ab633415d4a4",
        "colab": {
          "base_uri": "https://localhost:8080/",
          "height": 495
        }
      },
      "source": [
        "from IPython.display import SVG\n",
        "from keras.utils.vis_utils import model_to_dot, plot_model\n",
        "\n",
        "SVG(model_to_dot(model, show_shapes=False).create(prog='dot', format='svg'))\n",
        "\n",
        "plot_model(\n",
        "    model=model, show_shapes=False,\n",
        "    to_file='model_training.pdf'\n",
        ")\n",
        "\n",
        "model.summary()"
      ],
      "execution_count": 69,
      "outputs": [
        {
          "output_type": "stream",
          "text": [
            "__________________________________________________________________________________________________\n",
            "Layer (type)                    Output Shape         Param #     Connected to                     \n",
            "==================================================================================================\n",
            "encoder_input_x_fra (InputLayer (None, None, 28)     0                                            \n",
            "__________________________________________________________________________________________________\n",
            "decoder_input_x_fra (InputLayer (None, None, 29)     0                                            \n",
            "__________________________________________________________________________________________________\n",
            "encoder (Model)                 [(None, 512), (None, 583680      encoder_input_x_fra[0][0]        \n",
            "__________________________________________________________________________________________________\n",
            "decoder_input_x_ita (InputLayer (None, None, 29)     0                                            \n",
            "__________________________________________________________________________________________________\n",
            "decoder_lstm (LSTM)             [(None, None, 512),  1110016     decoder_input_x_fra[0][0]        \n",
            "                                                                 encoder[8][0]                    \n",
            "                                                                 encoder[8][1]                    \n",
            "                                                                 decoder_input_x_ita[0][0]        \n",
            "                                                                 encoder[8][0]                    \n",
            "                                                                 encoder[8][1]                    \n",
            "__________________________________________________________________________________________________\n",
            "decoder_dense_fra (Dense)       (None, None, 29)     14877       decoder_lstm[1][0]               \n",
            "__________________________________________________________________________________________________\n",
            "decoder_dense_ita (Dense)       (None, None, 29)     14877       decoder_lstm[2][0]               \n",
            "==================================================================================================\n",
            "Total params: 1,723,450\n",
            "Trainable params: 1,723,450\n",
            "Non-trainable params: 0\n",
            "__________________________________________________________________________________________________\n"
          ],
          "name": "stdout"
        }
      ]
    },
    {
      "cell_type": "markdown",
      "metadata": {
        "id": "SKKcARWmjPQl",
        "colab_type": "text"
      },
      "source": [
        "### 3.5. Fit the model on the bilingual dataset\n",
        "\n",
        "- encoder_input_data: one-hot encode of the input language\n",
        "\n",
        "- decoder_input_data: one-hot encode of the input language\n",
        "\n",
        "- decoder_target_data: labels (left shift of decoder_input_data)\n",
        "\n",
        "- tune the hyper-parameters\n",
        "\n",
        "- stop when the validation loss stop decreasing."
      ]
    },
    {
      "cell_type": "code",
      "metadata": {
        "id": "45XjYyVBjPQm",
        "colab_type": "code",
        "outputId": "fbba1852-b42f-482c-ec7b-26312f66cd84",
        "colab": {
          "base_uri": "https://localhost:8080/",
          "height": 140
        }
      },
      "source": [
        "print('shape of encoder_input_data' + str(encoder_input_data_fra.shape))\n",
        "print('shape of decoder_input_data' + str(decoder_input_data_fra.shape))\n",
        "print('shape of decoder_target_data' + str(decoder_target_data_fra.shape))\n",
        "\n",
        "\n",
        "print('=====================================================')\n",
        "print('shape of encoder_input_data' + str(encoder_input_data_ita.shape))\n",
        "print('shape of decoder_input_data' + str(decoder_input_data_ita.shape))\n",
        "print('shape of decoder_target_data' + str(decoder_target_data_ita.shape))"
      ],
      "execution_count": 70,
      "outputs": [
        {
          "output_type": "stream",
          "text": [
            "shape of encoder_input_data(4000, 12, 28)\n",
            "shape of decoder_input_data(4000, 56, 29)\n",
            "shape of decoder_target_data(4000, 56, 29)\n",
            "=====================================================\n",
            "shape of encoder_input_data(4000, 11, 28)\n",
            "shape of decoder_input_data(4000, 34, 29)\n",
            "shape of decoder_target_data(4000, 34, 29)\n"
          ],
          "name": "stdout"
        }
      ]
    },
    {
      "cell_type": "code",
      "metadata": {
        "id": "YL3yV-tJjPQo",
        "colab_type": "code",
        "outputId": "43bee39d-50a4-4b66-ebff-ae1e1c464824",
        "colab": {
          "base_uri": "https://localhost:8080/",
          "height": 1955
        }
      },
      "source": [
        "model.compile(optimizer='rmsprop', loss='categorical_crossentropy')\n",
        "\n",
        "model.fit([encoder_input_data_fra, decoder_input_data_fra,decoder_input_data_ita],  # training data\n",
        "          [decoder_target_data_fra,decoder_target_data_ita],                       # labels (left shift of the target sequences)\n",
        "          batch_size=64, epochs=50, validation_split=0.2)\n",
        "\n",
        "model.save('seq2seq.h5')"
      ],
      "execution_count": 71,
      "outputs": [
        {
          "output_type": "stream",
          "text": [
            "WARNING:tensorflow:From /usr/local/lib/python3.6/dist-packages/tensorflow/python/ops/math_ops.py:3066: to_int32 (from tensorflow.python.ops.math_ops) is deprecated and will be removed in a future version.\n",
            "Instructions for updating:\n",
            "Use tf.cast instead.\n",
            "WARNING:tensorflow:From /usr/local/lib/python3.6/dist-packages/tensorflow/python/ops/math_grad.py:102: div (from tensorflow.python.ops.math_ops) is deprecated and will be removed in a future version.\n",
            "Instructions for updating:\n",
            "Deprecated in favor of operator or tf.math.divide.\n",
            "Train on 3200 samples, validate on 800 samples\n",
            "Epoch 1/50\n",
            "3200/3200 [==============================] - 14s 4ms/step - loss: 2.6085 - decoder_dense_fra_loss: 1.1384 - decoder_dense_ita_loss: 1.4701 - val_loss: 2.7385 - val_decoder_dense_fra_loss: 1.2221 - val_decoder_dense_ita_loss: 1.5164\n",
            "Epoch 2/50\n",
            "3200/3200 [==============================] - 8s 3ms/step - loss: 2.1184 - decoder_dense_fra_loss: 0.9041 - decoder_dense_ita_loss: 1.2143 - val_loss: 2.2366 - val_decoder_dense_fra_loss: 0.9547 - val_decoder_dense_ita_loss: 1.2819\n",
            "Epoch 3/50\n",
            "3200/3200 [==============================] - 8s 2ms/step - loss: 1.9176 - decoder_dense_fra_loss: 0.8179 - decoder_dense_ita_loss: 1.0997 - val_loss: 2.0237 - val_decoder_dense_fra_loss: 0.8516 - val_decoder_dense_ita_loss: 1.1721\n",
            "Epoch 4/50\n",
            "3200/3200 [==============================] - 8s 3ms/step - loss: 1.7363 - decoder_dense_fra_loss: 0.7432 - decoder_dense_ita_loss: 0.9931 - val_loss: 1.8536 - val_decoder_dense_fra_loss: 0.7745 - val_decoder_dense_ita_loss: 1.0791\n",
            "Epoch 5/50\n",
            "3200/3200 [==============================] - 8s 3ms/step - loss: 1.6143 - decoder_dense_fra_loss: 0.6826 - decoder_dense_ita_loss: 0.9317 - val_loss: 1.7266 - val_decoder_dense_fra_loss: 0.7229 - val_decoder_dense_ita_loss: 1.0037\n",
            "Epoch 6/50\n",
            "3200/3200 [==============================] - 9s 3ms/step - loss: 1.5442 - decoder_dense_fra_loss: 0.6521 - decoder_dense_ita_loss: 0.8921 - val_loss: 1.6627 - val_decoder_dense_fra_loss: 0.6840 - val_decoder_dense_ita_loss: 0.9787\n",
            "Epoch 7/50\n",
            "3200/3200 [==============================] - 8s 3ms/step - loss: 1.4970 - decoder_dense_fra_loss: 0.6305 - decoder_dense_ita_loss: 0.8665 - val_loss: 1.6055 - val_decoder_dense_fra_loss: 0.6579 - val_decoder_dense_ita_loss: 0.9476\n",
            "Epoch 8/50\n",
            "3200/3200 [==============================] - 8s 3ms/step - loss: 1.4657 - decoder_dense_fra_loss: 0.6183 - decoder_dense_ita_loss: 0.8474 - val_loss: 1.5673 - val_decoder_dense_fra_loss: 0.6389 - val_decoder_dense_ita_loss: 0.9284\n",
            "Epoch 9/50\n",
            "3200/3200 [==============================] - 8s 3ms/step - loss: 1.4100 - decoder_dense_fra_loss: 0.5899 - decoder_dense_ita_loss: 0.8201 - val_loss: 1.5417 - val_decoder_dense_fra_loss: 0.6305 - val_decoder_dense_ita_loss: 0.9112\n",
            "Epoch 10/50\n",
            "3200/3200 [==============================] - 8s 2ms/step - loss: 1.3809 - decoder_dense_fra_loss: 0.5750 - decoder_dense_ita_loss: 0.8059 - val_loss: 1.5227 - val_decoder_dense_fra_loss: 0.6111 - val_decoder_dense_ita_loss: 0.9116\n",
            "Epoch 11/50\n",
            "3200/3200 [==============================] - 8s 2ms/step - loss: 1.3478 - decoder_dense_fra_loss: 0.5643 - decoder_dense_ita_loss: 0.7835 - val_loss: 1.4953 - val_decoder_dense_fra_loss: 0.5995 - val_decoder_dense_ita_loss: 0.8958\n",
            "Epoch 12/50\n",
            "3200/3200 [==============================] - 8s 2ms/step - loss: 1.3114 - decoder_dense_fra_loss: 0.5472 - decoder_dense_ita_loss: 0.7642 - val_loss: 1.4719 - val_decoder_dense_fra_loss: 0.5872 - val_decoder_dense_ita_loss: 0.8848\n",
            "Epoch 13/50\n",
            "3200/3200 [==============================] - 8s 2ms/step - loss: 1.2860 - decoder_dense_fra_loss: 0.5319 - decoder_dense_ita_loss: 0.7541 - val_loss: 1.4653 - val_decoder_dense_fra_loss: 0.5834 - val_decoder_dense_ita_loss: 0.8819\n",
            "Epoch 14/50\n",
            "3200/3200 [==============================] - 8s 2ms/step - loss: 1.2612 - decoder_dense_fra_loss: 0.5206 - decoder_dense_ita_loss: 0.7406 - val_loss: 1.4390 - val_decoder_dense_fra_loss: 0.5772 - val_decoder_dense_ita_loss: 0.8618\n",
            "Epoch 15/50\n",
            "3200/3200 [==============================] - 8s 3ms/step - loss: 1.2338 - decoder_dense_fra_loss: 0.5100 - decoder_dense_ita_loss: 0.7238 - val_loss: 1.4147 - val_decoder_dense_fra_loss: 0.5656 - val_decoder_dense_ita_loss: 0.8491\n",
            "Epoch 16/50\n",
            "3200/3200 [==============================] - 9s 3ms/step - loss: 1.2054 - decoder_dense_fra_loss: 0.4979 - decoder_dense_ita_loss: 0.7075 - val_loss: 1.4109 - val_decoder_dense_fra_loss: 0.5642 - val_decoder_dense_ita_loss: 0.8467\n",
            "Epoch 17/50\n",
            "3200/3200 [==============================] - 8s 2ms/step - loss: 1.1839 - decoder_dense_fra_loss: 0.4881 - decoder_dense_ita_loss: 0.6957 - val_loss: 1.3997 - val_decoder_dense_fra_loss: 0.5552 - val_decoder_dense_ita_loss: 0.8445\n",
            "Epoch 18/50\n",
            "3200/3200 [==============================] - 8s 3ms/step - loss: 1.1589 - decoder_dense_fra_loss: 0.4782 - decoder_dense_ita_loss: 0.6807 - val_loss: 1.3896 - val_decoder_dense_fra_loss: 0.5457 - val_decoder_dense_ita_loss: 0.8439\n",
            "Epoch 19/50\n",
            "3200/3200 [==============================] - 8s 3ms/step - loss: 1.1369 - decoder_dense_fra_loss: 0.4700 - decoder_dense_ita_loss: 0.6669 - val_loss: 1.3756 - val_decoder_dense_fra_loss: 0.5393 - val_decoder_dense_ita_loss: 0.8364\n",
            "Epoch 20/50\n",
            "3200/3200 [==============================] - 8s 3ms/step - loss: 1.1167 - decoder_dense_fra_loss: 0.4602 - decoder_dense_ita_loss: 0.6565 - val_loss: 1.3423 - val_decoder_dense_fra_loss: 0.5311 - val_decoder_dense_ita_loss: 0.8111\n",
            "Epoch 21/50\n",
            "3200/3200 [==============================] - 8s 3ms/step - loss: 1.0947 - decoder_dense_fra_loss: 0.4497 - decoder_dense_ita_loss: 0.6449 - val_loss: 1.3512 - val_decoder_dense_fra_loss: 0.5322 - val_decoder_dense_ita_loss: 0.8190\n",
            "Epoch 22/50\n",
            "3200/3200 [==============================] - 8s 3ms/step - loss: 1.0781 - decoder_dense_fra_loss: 0.4437 - decoder_dense_ita_loss: 0.6343 - val_loss: 1.3381 - val_decoder_dense_fra_loss: 0.5278 - val_decoder_dense_ita_loss: 0.8104\n",
            "Epoch 23/50\n",
            "3200/3200 [==============================] - 8s 3ms/step - loss: 1.0592 - decoder_dense_fra_loss: 0.4378 - decoder_dense_ita_loss: 0.6214 - val_loss: 1.3126 - val_decoder_dense_fra_loss: 0.5154 - val_decoder_dense_ita_loss: 0.7972\n",
            "Epoch 24/50\n",
            "3200/3200 [==============================] - 9s 3ms/step - loss: 1.0349 - decoder_dense_fra_loss: 0.4263 - decoder_dense_ita_loss: 0.6086 - val_loss: 1.3183 - val_decoder_dense_fra_loss: 0.5080 - val_decoder_dense_ita_loss: 0.8103\n",
            "Epoch 25/50\n",
            "3200/3200 [==============================] - 9s 3ms/step - loss: 1.0237 - decoder_dense_fra_loss: 0.4230 - decoder_dense_ita_loss: 0.6006 - val_loss: 1.3137 - val_decoder_dense_fra_loss: 0.5109 - val_decoder_dense_ita_loss: 0.8028\n",
            "Epoch 26/50\n",
            "3200/3200 [==============================] - 8s 3ms/step - loss: 1.0039 - decoder_dense_fra_loss: 0.4156 - decoder_dense_ita_loss: 0.5882 - val_loss: 1.3004 - val_decoder_dense_fra_loss: 0.5065 - val_decoder_dense_ita_loss: 0.7939\n",
            "Epoch 27/50\n",
            "3200/3200 [==============================] - 8s 3ms/step - loss: 0.9856 - decoder_dense_fra_loss: 0.4079 - decoder_dense_ita_loss: 0.5777 - val_loss: 1.3078 - val_decoder_dense_fra_loss: 0.4997 - val_decoder_dense_ita_loss: 0.8081\n",
            "Epoch 28/50\n",
            "3200/3200 [==============================] - 8s 3ms/step - loss: 0.9654 - decoder_dense_fra_loss: 0.4004 - decoder_dense_ita_loss: 0.5650 - val_loss: 1.2977 - val_decoder_dense_fra_loss: 0.5013 - val_decoder_dense_ita_loss: 0.7965\n",
            "Epoch 29/50\n",
            "3200/3200 [==============================] - 8s 3ms/step - loss: 0.9459 - decoder_dense_fra_loss: 0.3939 - decoder_dense_ita_loss: 0.5520 - val_loss: 1.2791 - val_decoder_dense_fra_loss: 0.4925 - val_decoder_dense_ita_loss: 0.7866\n",
            "Epoch 30/50\n",
            "3200/3200 [==============================] - 8s 3ms/step - loss: 0.9288 - decoder_dense_fra_loss: 0.3881 - decoder_dense_ita_loss: 0.5407 - val_loss: 1.2858 - val_decoder_dense_fra_loss: 0.4929 - val_decoder_dense_ita_loss: 0.7929\n",
            "Epoch 31/50\n",
            "3200/3200 [==============================] - 8s 2ms/step - loss: 0.9146 - decoder_dense_fra_loss: 0.3833 - decoder_dense_ita_loss: 0.5314 - val_loss: 1.2916 - val_decoder_dense_fra_loss: 0.4933 - val_decoder_dense_ita_loss: 0.7983\n",
            "Epoch 32/50\n",
            "3200/3200 [==============================] - 8s 3ms/step - loss: 0.8939 - decoder_dense_fra_loss: 0.3757 - decoder_dense_ita_loss: 0.5183 - val_loss: 1.2943 - val_decoder_dense_fra_loss: 0.4866 - val_decoder_dense_ita_loss: 0.8077\n",
            "Epoch 33/50\n",
            "3200/3200 [==============================] - 8s 3ms/step - loss: 0.8784 - decoder_dense_fra_loss: 0.3691 - decoder_dense_ita_loss: 0.5093 - val_loss: 1.2799 - val_decoder_dense_fra_loss: 0.4843 - val_decoder_dense_ita_loss: 0.7955\n",
            "Epoch 34/50\n",
            "3200/3200 [==============================] - 8s 3ms/step - loss: 0.8621 - decoder_dense_fra_loss: 0.3646 - decoder_dense_ita_loss: 0.4975 - val_loss: 1.2913 - val_decoder_dense_fra_loss: 0.4850 - val_decoder_dense_ita_loss: 0.8063\n",
            "Epoch 35/50\n",
            "3200/3200 [==============================] - 9s 3ms/step - loss: 0.8494 - decoder_dense_fra_loss: 0.3606 - decoder_dense_ita_loss: 0.4888 - val_loss: 1.2995 - val_decoder_dense_fra_loss: 0.4873 - val_decoder_dense_ita_loss: 0.8122\n",
            "Epoch 36/50\n",
            "3200/3200 [==============================] - 8s 3ms/step - loss: 0.8275 - decoder_dense_fra_loss: 0.3524 - decoder_dense_ita_loss: 0.4752 - val_loss: 1.2891 - val_decoder_dense_fra_loss: 0.4870 - val_decoder_dense_ita_loss: 0.8021\n",
            "Epoch 37/50\n",
            "3200/3200 [==============================] - 8s 2ms/step - loss: 0.8127 - decoder_dense_fra_loss: 0.3475 - decoder_dense_ita_loss: 0.4651 - val_loss: 1.3167 - val_decoder_dense_fra_loss: 0.4889 - val_decoder_dense_ita_loss: 0.8278\n",
            "Epoch 38/50\n",
            "3200/3200 [==============================] - 8s 3ms/step - loss: 0.7995 - decoder_dense_fra_loss: 0.3427 - decoder_dense_ita_loss: 0.4569 - val_loss: 1.2964 - val_decoder_dense_fra_loss: 0.4834 - val_decoder_dense_ita_loss: 0.8131\n",
            "Epoch 39/50\n",
            "3200/3200 [==============================] - 8s 3ms/step - loss: 0.7799 - decoder_dense_fra_loss: 0.3386 - decoder_dense_ita_loss: 0.4414 - val_loss: 1.3038 - val_decoder_dense_fra_loss: 0.4825 - val_decoder_dense_ita_loss: 0.8212\n",
            "Epoch 40/50\n",
            "3200/3200 [==============================] - 8s 3ms/step - loss: 0.7684 - decoder_dense_fra_loss: 0.3316 - decoder_dense_ita_loss: 0.4368 - val_loss: 1.3149 - val_decoder_dense_fra_loss: 0.4813 - val_decoder_dense_ita_loss: 0.8336\n",
            "Epoch 41/50\n",
            "3200/3200 [==============================] - 8s 2ms/step - loss: 0.7505 - decoder_dense_fra_loss: 0.3262 - decoder_dense_ita_loss: 0.4243 - val_loss: 1.3041 - val_decoder_dense_fra_loss: 0.4802 - val_decoder_dense_ita_loss: 0.8239\n",
            "Epoch 42/50\n",
            "3200/3200 [==============================] - 8s 2ms/step - loss: 0.7378 - decoder_dense_fra_loss: 0.3206 - decoder_dense_ita_loss: 0.4172 - val_loss: 1.3080 - val_decoder_dense_fra_loss: 0.4807 - val_decoder_dense_ita_loss: 0.8274\n",
            "Epoch 43/50\n",
            "3200/3200 [==============================] - 8s 3ms/step - loss: 0.7190 - decoder_dense_fra_loss: 0.3161 - decoder_dense_ita_loss: 0.4029 - val_loss: 1.3100 - val_decoder_dense_fra_loss: 0.4751 - val_decoder_dense_ita_loss: 0.8349\n",
            "Epoch 44/50\n",
            "3200/3200 [==============================] - 8s 3ms/step - loss: 0.7061 - decoder_dense_fra_loss: 0.3117 - decoder_dense_ita_loss: 0.3944 - val_loss: 1.3207 - val_decoder_dense_fra_loss: 0.4769 - val_decoder_dense_ita_loss: 0.8438\n",
            "Epoch 45/50\n",
            "3200/3200 [==============================] - 9s 3ms/step - loss: 0.6930 - decoder_dense_fra_loss: 0.3073 - decoder_dense_ita_loss: 0.3857 - val_loss: 1.3289 - val_decoder_dense_fra_loss: 0.4796 - val_decoder_dense_ita_loss: 0.8494\n",
            "Epoch 46/50\n",
            "3200/3200 [==============================] - 8s 2ms/step - loss: 0.6815 - decoder_dense_fra_loss: 0.3012 - decoder_dense_ita_loss: 0.3803 - val_loss: 1.3448 - val_decoder_dense_fra_loss: 0.4837 - val_decoder_dense_ita_loss: 0.8612\n",
            "Epoch 47/50\n",
            "3200/3200 [==============================] - 8s 3ms/step - loss: 0.6651 - decoder_dense_fra_loss: 0.2970 - decoder_dense_ita_loss: 0.3681 - val_loss: 1.3302 - val_decoder_dense_fra_loss: 0.4809 - val_decoder_dense_ita_loss: 0.8493\n",
            "Epoch 48/50\n",
            "3200/3200 [==============================] - 8s 3ms/step - loss: 0.6550 - decoder_dense_fra_loss: 0.2944 - decoder_dense_ita_loss: 0.3606 - val_loss: 1.3490 - val_decoder_dense_fra_loss: 0.4831 - val_decoder_dense_ita_loss: 0.8659\n",
            "Epoch 49/50\n",
            "3200/3200 [==============================] - 8s 3ms/step - loss: 0.6405 - decoder_dense_fra_loss: 0.2896 - decoder_dense_ita_loss: 0.3509 - val_loss: 1.3535 - val_decoder_dense_fra_loss: 0.4833 - val_decoder_dense_ita_loss: 0.8702\n",
            "Epoch 50/50\n",
            "3200/3200 [==============================] - 8s 2ms/step - loss: 0.6322 - decoder_dense_fra_loss: 0.2840 - decoder_dense_ita_loss: 0.3482 - val_loss: 1.3614 - val_decoder_dense_fra_loss: 0.4818 - val_decoder_dense_ita_loss: 0.8796\n"
          ],
          "name": "stdout"
        },
        {
          "output_type": "stream",
          "text": [
            "/usr/local/lib/python3.6/dist-packages/keras/engine/network.py:877: UserWarning: Layer decoder_lstm was passed non-serializable keyword arguments: {'initial_state': [<tf.Tensor 'encoder_7/concatenate_9/concat:0' shape=(?, 512) dtype=float32>, <tf.Tensor 'encoder_7/concatenate_10/concat:0' shape=(?, 512) dtype=float32>]}. They will not be included in the serialized model (and thus will be missing at deserialization time).\n",
            "  '. They will not be included '\n"
          ],
          "name": "stderr"
        }
      ]
    },
    {
      "cell_type": "markdown",
      "metadata": {
        "id": "DMJ_DKpujPQq",
        "colab_type": "text"
      },
      "source": [
        "## 4. Make predictions\n",
        "\n",
        "\n",
        "### 4.1. Translate English to XXX\n",
        "\n",
        "1. Encoder read a sentence (source language) and output its final states, $h_t$ and $c_t$.\n",
        "2. Take the [star] sign \"\\t\" and the final state $h_t$ and $c_t$ as input and run the decoder.\n",
        "3. Get the new states and predicted probability distribution.\n",
        "4. sample a char from the predicted probability distribution\n",
        "5. take the sampled char and the new states as input and repeat the process (stop if reach the [stop] sign \"\\n\")."
      ]
    },
    {
      "cell_type": "code",
      "metadata": {
        "id": "stEef2j5jPQr",
        "colab_type": "code",
        "colab": {}
      },
      "source": [
        "# Reverse-lookup token index to decode sequences back to something readable.\n",
        "reverse_input_char_index = dict((i, char) for char, i in input_token_index_fra.items())\n",
        "reverse_target_char_index = dict((i, char) for char, i in target_token_index_fra.items())"
      ],
      "execution_count": 0,
      "outputs": []
    },
    {
      "cell_type": "code",
      "metadata": {
        "id": "KDsgVcrMjPQv",
        "colab_type": "code",
        "colab": {}
      },
      "source": [
        "def decode_sequence(input_seq):\n",
        "    states_value = encoder_model_fra.predict(input_seq)\n",
        "\n",
        "    target_seq = numpy.zeros((1, 1, num_decoder_tokens_fra))\n",
        "    target_seq[0, 0, target_token_index_fra['\\t']] = 1.\n",
        "\n",
        "    stop_condition = False\n",
        "    decoded_sentence = ''\n",
        "    while not stop_condition:\n",
        "        output_tokens, h, c = decoder_model_fra.predict([target_seq] + states_value)\n",
        "\n",
        "        # this line of code is greedy selection\n",
        "        # try to use multinomial sampling instead (with temperature)\n",
        "        sampled_token_index = numpy.argmax(output_tokens[0, -1, :])\n",
        "        \n",
        "        sampled_char = reverse_target_char_index[sampled_token_index]\n",
        "        decoded_sentence += sampled_char\n",
        "\n",
        "        if (sampled_char == '\\n' or\n",
        "           len(decoded_sentence) > max_decoder_seq_length_fra):\n",
        "            stop_condition = True\n",
        "\n",
        "        target_seq = numpy.zeros((1, 1, num_decoder_tokens_fra))\n",
        "        target_seq[0, 0, sampled_token_index] = 1.\n",
        "\n",
        "        states_value = [h, c]\n",
        "\n",
        "    return decoded_sentence\n"
      ],
      "execution_count": 0,
      "outputs": []
    },
    {
      "cell_type": "code",
      "metadata": {
        "id": "ruRCaKyIjPQy",
        "colab_type": "code",
        "outputId": "86b6eba1-4ffd-43e6-c110-05d7598d825f",
        "colab": {
          "base_uri": "https://localhost:8080/",
          "height": 1425
        }
      },
      "source": [
        "for seq_index in range(2100, 2120):\n",
        "    # Take one sequence (part of the training set)\n",
        "    # for trying out decoding.\n",
        "    input_seq = encoder_input_data_fra[seq_index: seq_index + 1]\n",
        "    decoded_sentence = decode_sequence(input_seq)\n",
        "    print('-')\n",
        "    print('English:       ', input_texts_fra[seq_index])\n",
        "    print('France (true): ', target_texts_fra[seq_index][1:-1])\n",
        "    print('France (pred): ', decoded_sentence[0:-1])\n"
      ],
      "execution_count": 84,
      "outputs": [
        {
          "output_type": "stream",
          "text": [
            "-\n",
            "English:        i buried it\n",
            "France (true):  je lai enterre\n",
            "France (pred):  je lai entre\n",
            "-\n",
            "English:        i buried it\n",
            "France (true):  je lai enterree\n",
            "France (pred):  je lai entre\n",
            "-\n",
            "English:        i burned it\n",
            "France (true):  je lai brule\n",
            "France (pred):  je lai conte\n",
            "-\n",
            "English:        i burned it\n",
            "France (true):  je lai brulee\n",
            "France (pred):  je lai conte\n",
            "-\n",
            "English:        i came back\n",
            "France (true):  je suis revenu\n",
            "France (pred):  je suis detendue\n",
            "-\n",
            "English:        i can dance\n",
            "France (true):  je sais danser\n",
            "France (pred):  je sais de la duis\n",
            "-\n",
            "English:        i can do it\n",
            "France (true):  je peux le faire\n",
            "France (pred):  je veux de la me sou\n",
            "-\n",
            "English:        i can do it\n",
            "France (true):  je peux y arriver\n",
            "France (pred):  je veux de la me sou\n",
            "-\n",
            "English:        i can do it\n",
            "France (true):  je peux y parvenir\n",
            "France (pred):  je veux de la me sou\n",
            "-\n",
            "English:        i can do it\n",
            "France (true):  jarrive a le faire\n",
            "France (pred):  je veux de la me sou\n",
            "-\n",
            "English:        i cant eat\n",
            "France (true):  je ne peux pas manger\n",
            "France (pred):  je ne peux pas a laire\n",
            "-\n",
            "English:        i cant say\n",
            "France (true):  je ne puis le dire\n",
            "France (pred):  je ne peux pas a laire\n",
            "-\n",
            "English:        i cant say\n",
            "France (true):  je ne peux le dire\n",
            "France (pred):  je ne peux pas a laire\n",
            "-\n",
            "English:        i cant see\n",
            "France (true):  je narrive pas a voir\n",
            "France (pred):  je ne peux pas a laire\n",
            "-\n",
            "English:        i cant see\n",
            "France (true):  je ne parviens pas a voir\n",
            "France (pred):  je ne peux pas a laire\n",
            "-\n",
            "English:        i cant see\n",
            "France (true):  je suis aveugle\n",
            "France (pred):  je ne peux pas a laire\n",
            "-\n",
            "English:        i cant win\n",
            "France (true):  je ne peux gagner\n",
            "France (pred):  je ne peux pas a laire\n",
            "-\n",
            "English:        i cant win\n",
            "France (true):  je ne peux pas gagner\n",
            "France (pred):  je ne peux pas a laire\n",
            "-\n",
            "English:        i cant win\n",
            "France (true):  je ne puis gagner\n",
            "France (pred):  je ne peux pas a laire\n",
            "-\n",
            "English:        i caught it\n",
            "France (true):  je lai attrape\n",
            "France (pred):  je lai coupre\n"
          ],
          "name": "stdout"
        }
      ]
    },
    {
      "cell_type": "markdown",
      "metadata": {
        "id": "R9NwLuGVjPQ1",
        "colab_type": "text"
      },
      "source": [
        "### 4.2. Translate an English sentence to the target language\n",
        "\n",
        "1. Tokenization\n",
        "2. One-hot encode\n",
        "3. Translate"
      ]
    },
    {
      "cell_type": "code",
      "metadata": {
        "id": "rQVA0m4XjPQ1",
        "colab_type": "code",
        "outputId": "3398b456-f2e7-4fb4-b432-7bae3aa2ba94",
        "colab": {
          "base_uri": "https://localhost:8080/",
          "height": 70
        }
      },
      "source": [
        "input_sentence = 'why is that'\n",
        "\n",
        "input_x = numpy.zeros((len(input_sentence),max_encoder_seq_length_fra, num_encoder_tokens_fra))\n",
        "\n",
        "for i , word in enumerate(input_sentence):\n",
        "  for j, char in enumerate(word):\n",
        "    word_index = input_token_index_fra.get(char)\n",
        "    input_x[i,j,word_index] = 1\n",
        "\n",
        "translated_sentence = decode_sequence(input_x)\n",
        "\n",
        "print('source sentence is: ' + str(input_sentence))\n",
        "print('translated sentence is: ' + str(translated_sentence))"
      ],
      "execution_count": 87,
      "outputs": [
        {
          "output_type": "stream",
          "text": [
            "source sentence is: why is that\n",
            "translated sentence is: nous sommes en artir\n",
            "\n"
          ],
          "name": "stdout"
        }
      ]
    },
    {
      "cell_type": "markdown",
      "metadata": {
        "id": "Yc5bqgrsjPQ4",
        "colab_type": "text"
      },
      "source": [
        "## 5. Evaluate the translation using BLEU score\n",
        "\n",
        "Reference: \n",
        "- https://machinelearningmastery.com/calculate-bleu-score-for-text-python/\n",
        "- https://en.wikipedia.org/wiki/BLEU\n"
      ]
    },
    {
      "cell_type": "code",
      "metadata": {
        "id": "ZASrQRHpjPQ5",
        "colab_type": "code",
        "outputId": "b8c945aa-a5ca-4a28-9b1c-42c2ce04316a",
        "colab": {
          "base_uri": "https://localhost:8080/",
          "height": 125
        }
      },
      "source": [
        "from nltk.translate.bleu_score import sentence_bleu\n",
        "score = []\n",
        "for seq_index in range(10, 2120):\n",
        "    # Take one sequence (part of the training set)\n",
        "    # for trying out decoding.\n",
        "    input_seq = encoder_input_data_fra[seq_index: seq_index + 1]\n",
        "    decoded_sentence = decode_sequence(input_seq)\n",
        "    score.append(sentence_bleu(target_texts_fra[seq_index][1:-1],decoded_sentence[0:-1]))\n",
        "print(sum(score)/len(score))"
      ],
      "execution_count": 88,
      "outputs": [
        {
          "output_type": "stream",
          "text": [
            "/usr/local/lib/python3.6/dist-packages/nltk/translate/bleu_score.py:490: UserWarning: \n",
            "Corpus/Sentence contains 0 counts of 2-gram overlaps.\n",
            "BLEU scores might be undesirable; use SmoothingFunction().\n",
            "  warnings.warn(_msg)\n"
          ],
          "name": "stderr"
        },
        {
          "output_type": "stream",
          "text": [
            "0.8224829185437927\n"
          ],
          "name": "stdout"
        }
      ]
    },
    {
      "cell_type": "code",
      "metadata": {
        "id": "1BoxuFTh0z0A",
        "colab_type": "code",
        "colab": {}
      },
      "source": [
        ""
      ],
      "execution_count": 0,
      "outputs": []
    },
    {
      "cell_type": "code",
      "metadata": {
        "id": "1zjcfi5ciLLT",
        "colab_type": "code",
        "colab": {}
      },
      "source": [
        ""
      ],
      "execution_count": 0,
      "outputs": []
    }
  ]
}