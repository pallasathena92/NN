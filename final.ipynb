{
 "cells": [
  {
   "cell_type": "code",
   "execution_count": 1,
   "metadata": {
    "_cell_guid": "b1076dfc-b9ad-4769-8c92-a6c4dae69d19",
    "_uuid": "8f2839f25d086af736a60e9eeb907d3b93b6e0e5"
   },
   "outputs": [
    {
     "name": "stdout",
     "output_type": "stream",
     "text": [
      "['train.csv', 'sample_submission.csv', 'test.csv']\n"
     ]
    }
   ],
   "source": [
    "# This Python 3 environment comes with many helpful analytics libraries installed\n",
    "# It is defined by the kaggle/python docker image: https://github.com/kaggle/docker-python\n",
    "# For example, here's several helpful packages to load in \n",
    "\n",
    "import numpy as np # linear algebra\n",
    "import pandas as pd # data processing, CSV file I/O (e.g. pd.read_csv)\n",
    "\n",
    "# Input data files are available in the \"../input/\" directory.\n",
    "# For example, running this (by clicking run or pressing Shift+Enter) will list the files in the input directory\n",
    "\n",
    "import os\n",
    "print(os.listdir(\"../input\"))\n",
    "\n",
    "# Any results you write to the current directory are saved as output."
   ]
  },
  {
   "cell_type": "code",
   "execution_count": 2,
   "metadata": {
    "_cell_guid": "79c7e3d0-c299-4dcb-8224-4455121ee9b0",
    "_kg_hide-input": false,
    "_uuid": "d629ff2d2480ee46fbb7e2d37f6b5fab8052498a"
   },
   "outputs": [],
   "source": [
    "train = pd.read_csv('../input/train.csv')\n",
    "test = pd.read_csv('../input/test.csv')\n",
    "sample_submission = pd.read_csv('../input/sample_submission.csv')"
   ]
  },
  {
   "cell_type": "code",
   "execution_count": 3,
   "metadata": {},
   "outputs": [
    {
     "data": {
      "text/plain": [
       "'# LOAD LIBRARIES\\nimport matplotlib.pyplot as plt\\nimport seaborn as sns\\nimport pandas as pd, numpy as np, gc\\nimport warnings\\nwarnings.filterwarnings(\"ignore\")\\nfrom sklearn.metrics import roc_auc_score\\nimport lightgbm as lgb\\nimport statsmodels.api as sm\\n\\n# GET INDICIES OF REAL TEST DATA FOR FE\\n#######################\\n# TAKE FROM YAG320\\'S KERNEL\\n# https://www.kaggle.com/yag320/list-of-fake-samples-and-public-private-lb-split\\n\\ntest_path = \\'../input/test.csv\\'\\n\\ndf_test = pd.read_csv(test_path)\\ndf_test.drop([\\'ID_code\\'], axis=1, inplace=True)\\ndf_test = df_test.values\\n\\nunique_samples = []\\nunique_count = np.zeros_like(df_test)\\nfor feature in range(df_test.shape[1]):\\n    _, index_, count_ = np.unique(df_test[:, feature], return_counts=True, return_index=True)\\n    unique_count[index_[count_ == 1], feature] += 1\\n\\n# Samples which have unique values are real the others are fake\\nreal_samples_indexes = np.argwhere(np.sum(unique_count, axis=1) > 0)[:, 0]\\nsynthetic_samples_indexes = np.argwhere(np.sum(unique_count, axis=1) == 0)[:, 0]\\n\\nprint(\\'Found\\',len(real_samples_indexes),\\'real test\\')\\nprint(\\'Found\\',len(synthetic_samples_indexes),\\'fake test\\')\\n\\n###################\\n\\nd = {}\\nfor i in range(200): d[\\'var_\\'+str(i)] = \\'float32\\'\\nd[\\'target\\'] = \\'uint8\\'\\nd[\\'ID_code\\'] = \\'object\\'\\n\\ntrain = pd.read_csv(\\'../input/train.csv\\', dtype=d)\\ntest = pd.read_csv(\\'../input/test.csv\\', dtype=d)\\n\\nprint(\\'Loaded\\',len(train),\\'rows of train\\')\\nprint(\\'Loaded\\',len(test),\\'rows of test\\')'"
      ]
     },
     "execution_count": 3,
     "metadata": {},
     "output_type": "execute_result"
    }
   ],
   "source": [
    "'''# LOAD LIBRARIES\n",
    "import matplotlib.pyplot as plt\n",
    "import seaborn as sns\n",
    "import pandas as pd, numpy as np, gc\n",
    "import warnings\n",
    "warnings.filterwarnings(\"ignore\")\n",
    "from sklearn.metrics import roc_auc_score\n",
    "import lightgbm as lgb\n",
    "import statsmodels.api as sm\n",
    "\n",
    "# GET INDICIES OF REAL TEST DATA FOR FE\n",
    "#######################\n",
    "# TAKE FROM YAG320'S KERNEL\n",
    "# https://www.kaggle.com/yag320/list-of-fake-samples-and-public-private-lb-split\n",
    "\n",
    "test_path = '../input/test.csv'\n",
    "\n",
    "df_test = pd.read_csv(test_path)\n",
    "df_test.drop(['ID_code'], axis=1, inplace=True)\n",
    "df_test = df_test.values\n",
    "\n",
    "unique_samples = []\n",
    "unique_count = np.zeros_like(df_test)\n",
    "for feature in range(df_test.shape[1]):\n",
    "    _, index_, count_ = np.unique(df_test[:, feature], return_counts=True, return_index=True)\n",
    "    unique_count[index_[count_ == 1], feature] += 1\n",
    "\n",
    "# Samples which have unique values are real the others are fake\n",
    "real_samples_indexes = np.argwhere(np.sum(unique_count, axis=1) > 0)[:, 0]\n",
    "synthetic_samples_indexes = np.argwhere(np.sum(unique_count, axis=1) == 0)[:, 0]\n",
    "\n",
    "print('Found',len(real_samples_indexes),'real test')\n",
    "print('Found',len(synthetic_samples_indexes),'fake test')\n",
    "\n",
    "###################\n",
    "\n",
    "d = {}\n",
    "for i in range(200): d['var_'+str(i)] = 'float32'\n",
    "d['target'] = 'uint8'\n",
    "d['ID_code'] = 'object'\n",
    "\n",
    "train = pd.read_csv('../input/train.csv', dtype=d)\n",
    "test = pd.read_csv('../input/test.csv', dtype=d)\n",
    "\n",
    "print('Loaded',len(train),'rows of train')\n",
    "print('Loaded',len(test),'rows of test')'''"
   ]
  },
  {
   "cell_type": "code",
   "execution_count": 4,
   "metadata": {},
   "outputs": [
    {
     "data": {
      "text/plain": [
       "\"# FREQUENCY ENCODE\\ndef encode_FE(df,col,test):\\n    cv = df[col].value_counts()\\n    nm = col+'_FE'\\n    df[nm] = df[col].map(cv)\\n    test[nm] = test[col].map(cv)\\n    test[nm].fillna(0,inplace=True)\\n    if cv.max()<=255:\\n        df[nm] = df[nm].astype('uint8')\\n        test[nm] = test[nm].astype('uint8')\\n    else:\\n        df[nm] = df[nm].astype('uint16')\\n        test[nm] = test[nm].astype('uint16')        \\n    return\\n\\ntest['target'] = -1\\ncomb = pd.concat([train,test.loc[real_samples_indexes]],axis=0,sort=True)\\nfor i in range(200): encode_FE(comb,'var_'+str(i),test)\\ntrain = comb[:len(train)]; del comb\\nprint('Added 200 new magic features!')\""
      ]
     },
     "execution_count": 4,
     "metadata": {},
     "output_type": "execute_result"
    }
   ],
   "source": [
    "'''# FREQUENCY ENCODE\n",
    "def encode_FE(df,col,test):\n",
    "    cv = df[col].value_counts()\n",
    "    nm = col+'_FE'\n",
    "    df[nm] = df[col].map(cv)\n",
    "    test[nm] = test[col].map(cv)\n",
    "    test[nm].fillna(0,inplace=True)\n",
    "    if cv.max()<=255:\n",
    "        df[nm] = df[nm].astype('uint8')\n",
    "        test[nm] = test[nm].astype('uint8')\n",
    "    else:\n",
    "        df[nm] = df[nm].astype('uint16')\n",
    "        test[nm] = test[nm].astype('uint16')        \n",
    "    return\n",
    "\n",
    "test['target'] = -1\n",
    "comb = pd.concat([train,test.loc[real_samples_indexes]],axis=0,sort=True)\n",
    "for i in range(200): encode_FE(comb,'var_'+str(i),test)\n",
    "train = comb[:len(train)]; del comb\n",
    "print('Added 200 new magic features!')'''"
   ]
  },
  {
   "cell_type": "code",
   "execution_count": 5,
   "metadata": {},
   "outputs": [],
   "source": [
    "#train"
   ]
  },
  {
   "cell_type": "markdown",
   "metadata": {},
   "source": [
    "## **train and test dataset**"
   ]
  },
  {
   "cell_type": "code",
   "execution_count": 6,
   "metadata": {},
   "outputs": [],
   "source": [
    "import seaborn as sns\n",
    "import time\n",
    "import matplotlib.pyplot as plt\n",
    "%matplotlib inline"
   ]
  },
  {
   "cell_type": "code",
   "execution_count": 7,
   "metadata": {},
   "outputs": [],
   "source": [
    "corrs = train.corr()"
   ]
  },
  {
   "cell_type": "code",
   "execution_count": 8,
   "metadata": {},
   "outputs": [
    {
     "data": {
      "image/png": "[encoded data removed]",
      "text/plain": [
       "<Figure size 720x720 with 2 Axes>"
      ]
     },
     "metadata": {},
     "output_type": "display_data"
    }
   ],
   "source": [
    "#heat map\n",
    "plt.figure(figsize=(10,10))\n",
    "sns.heatmap(corrs, cmap='RdBu_r', center=0.0) \n",
    "plt.title('Correlations',fontsize=16)\n",
    "plt.show() "
   ]
  },
  {
   "cell_type": "code",
   "execution_count": 9,
   "metadata": {},
   "outputs": [],
   "source": [
    "x_train = train.iloc[:,2:]\n",
    "y_train = train['target']\n",
    "x_test = test.iloc[:,1:]\n"
   ]
  },
  {
   "cell_type": "code",
   "execution_count": 10,
   "metadata": {},
   "outputs": [
    {
     "name": "stdout",
     "output_type": "stream",
     "text": [
      "train_feature shape: (200000, 200)\n",
      "train_target shape: (200000,)\n",
      "test_feature shape: (200000, 200)\n"
     ]
    }
   ],
   "source": [
    "print('train_feature shape:', x_train.shape)\n",
    "print('train_target shape:', y_train.shape)\n",
    "print('test_feature shape:', x_test.shape)"
   ]
  },
  {
   "cell_type": "code",
   "execution_count": 11,
   "metadata": {},
   "outputs": [],
   "source": [
    "# augment sample to deal with the imbalanced dataset\n",
    "def disarrange(a, axis=-1):\n",
    "    \"\"\"\n",
    "    Shuffle `a` in-place along the given axis.\n",
    "\n",
    "    Apply numpy.random.shuffle to the given axis of `a`.\n",
    "    Each one-dimensional slice is shuffled independently.\n",
    "    \"\"\"\n",
    "    b = a.swapaxes(axis, -1)\n",
    "    # Shuffle `b` in-place along the last axis.  `b` is a view of `a`,\n",
    "    # so `a` is shuffled in place, too.\n",
    "    shp = b.shape[:-1]\n",
    "    for ndx in np.ndindex(shp):\n",
    "        np.random.shuffle(b[ndx])\n",
    "    return\n",
    "\n",
    "def augment(x,y,t=2):\n",
    "    xs,xn = [],[]\n",
    "    for i in range(t):\n",
    "        mask = y>0\n",
    "        x1 = x[mask].copy()\n",
    "        disarrange(x1,axis=0)\n",
    "        xs.append(x1)\n",
    "\n",
    "    for i in range(t//2):\n",
    "        mask = y==0\n",
    "        x1 = x[mask].copy()\n",
    "        disarrange(x1,axis=0)\n",
    "        xn.append(x1)\n",
    "\n",
    "    xs = np.vstack(xs)\n",
    "    xn = np.vstack(xn)\n",
    "    ys = np.ones(xs.shape[0])\n",
    "    yn = np.zeros(xn.shape[0])\n",
    "    x = np.vstack([x,xs,xn])\n",
    "    y = np.concatenate([y,ys,yn])\n",
    "    return x,y"
   ]
  },
  {
   "cell_type": "code",
   "execution_count": 12,
   "metadata": {},
   "outputs": [],
   "source": [
    "#augment step\n",
    "x_train_a, y_train_a = augment(x_train.values, y_train.values)"
   ]
  },
  {
   "cell_type": "code",
   "execution_count": 13,
   "metadata": {},
   "outputs": [],
   "source": [
    "#switch augmented data from array to dataframe\n",
    "#x_train_a_frame = pd.DataFrame(x_train_a)\n",
    "#y_train_a_frame = pd.DataFrame(y_train_a)"
   ]
  },
  {
   "cell_type": "code",
   "execution_count": 14,
   "metadata": {},
   "outputs": [],
   "source": [
    "#print(\"the train_set_feature shape:\", x_train_a.shape)\n",
    "#print(\"the train_set_labels shape:\", y_train_a.shape)"
   ]
  },
  {
   "cell_type": "markdown",
   "metadata": {},
   "source": [
    "## **NN **"
   ]
  },
  {
   "cell_type": "code",
   "execution_count": 15,
   "metadata": {},
   "outputs": [],
   "source": []
  },
  {
   "cell_type": "code",
   "execution_count": 15,
   "metadata": {},
   "outputs": [],
   "source": [
    "# random separate the train and vaild.\n",
    "#agumented data make the overfitting\n",
    "\n",
    "\n",
    "\n",
    "rand_ind = np.random.permutation(200000)\n",
    "train_ind = rand_ind[0:180000]\n",
    "valid_ind = rand_ind[180000:200000]\n",
    "\n",
    "x_valid_vec = x_train.iloc[valid_ind,:]\n",
    "y_valid_vec = y_train.iloc[valid_ind]\n",
    "\n",
    "x_train_vec = x_train.iloc[train_ind,:]\n",
    "y_train_vec = y_train.iloc[train_ind]\n",
    "\n"
   ]
  },
  {
   "cell_type": "code",
   "execution_count": 16,
   "metadata": {},
   "outputs": [
    {
     "name": "stderr",
     "output_type": "stream",
     "text": [
      "Using TensorFlow backend.\n"
     ]
    }
   ],
   "source": [
    "from keras import models\n",
    "from keras import layers\n",
    "from keras import optimizers"
   ]
  },
  {
   "cell_type": "code",
   "execution_count": 17,
   "metadata": {},
   "outputs": [
    {
     "data": {
      "text/plain": [
       "'for i in range(1000):\\n    index = .......\\n    xi = data[index]\\n    fi = feature_map() #function\\n    model.train_on_batch([fi,yi])'"
      ]
     },
     "execution_count": 17,
     "metadata": {},
     "output_type": "execute_result"
    }
   ],
   "source": [
    "'''from sklearn.preprocessing import PolynomialFeatures\n",
    "\n",
    "poly = PolynomialFeatures(degree = 2)\n",
    "train_poly = poly.fit(\n",
    "    poly.fit_transform(x_train_vec),\n",
    "    y_train_vec,\n",
    "    batch_size = 32\n",
    ")'''\n",
    "\n",
    "'''for i in range(1000):\n",
    "    index = .......\n",
    "    xi = data[index]\n",
    "    fi = feature_map() #function\n",
    "    model.train_on_batch([fi,yi])'''"
   ]
  },
  {
   "cell_type": "code",
   "execution_count": 18,
   "metadata": {},
   "outputs": [
    {
     "name": "stdout",
     "output_type": "stream",
     "text": [
      "WARNING:tensorflow:From /opt/conda/lib/python3.6/site-packages/tensorflow/python/framework/op_def_library.py:263: colocate_with (from tensorflow.python.framework.ops) is deprecated and will be removed in a future version.\n",
      "Instructions for updating:\n",
      "Colocations handled automatically by placer.\n",
      "WARNING:tensorflow:From /opt/conda/lib/python3.6/site-packages/keras/backend/tensorflow_backend.py:3445: calling dropout (from tensorflow.python.ops.nn_ops) with keep_prob is deprecated and will be removed in a future version.\n",
      "Instructions for updating:\n",
      "Please use `rate` instead of `keep_prob`. Rate should be set to `rate = 1 - keep_prob`.\n"
     ]
    }
   ],
   "source": [
    "#build NN model\n",
    "model = models.Sequential()\n",
    "model.add(layers.Dense(10, activation='relu', input_shape = (200,)))\n",
    "model.add(layers.Dense(20))\n",
    "model.add(layers.BatchNormalization())\n",
    "model.add(layers.Activation('relu'))\n",
    "model.add(layers.Dense(48, activation='relu'))\n",
    "model.add(layers.Dense(128))\n",
    "model.add(layers.BatchNormalization())\n",
    "model.add(layers.Activation('relu'))\n",
    "model.add(layers.Dense(128, activation='relu'))\n",
    "model.add(layers.Dense(256, activation='relu'))\n",
    "model.add(layers.Dropout(0.25))\n",
    "model.add(layers.Dense(1, activation='sigmoid'))"
   ]
  },
  {
   "cell_type": "code",
   "execution_count": 19,
   "metadata": {},
   "outputs": [
    {
     "name": "stdout",
     "output_type": "stream",
     "text": [
      "_________________________________________________________________\n",
      "Layer (type)                 Output Shape              Param #   \n",
      "=================================================================\n",
      "dense_1 (Dense)              (None, 10)                2010      \n",
      "_________________________________________________________________\n",
      "dense_2 (Dense)              (None, 20)                220       \n",
      "_________________________________________________________________\n",
      "batch_normalization_1 (Batch (None, 20)                80        \n",
      "_________________________________________________________________\n",
      "activation_1 (Activation)    (None, 20)                0         \n",
      "_________________________________________________________________\n",
      "dense_3 (Dense)              (None, 48)                1008      \n",
      "_________________________________________________________________\n",
      "dense_4 (Dense)              (None, 128)               6272      \n",
      "_________________________________________________________________\n",
      "batch_normalization_2 (Batch (None, 128)               512       \n",
      "_________________________________________________________________\n",
      "activation_2 (Activation)    (None, 128)               0         \n",
      "_________________________________________________________________\n",
      "dense_5 (Dense)              (None, 128)               16512     \n",
      "_________________________________________________________________\n",
      "dense_6 (Dense)              (None, 256)               33024     \n",
      "_________________________________________________________________\n",
      "dropout_1 (Dropout)          (None, 256)               0         \n",
      "_________________________________________________________________\n",
      "dense_7 (Dense)              (None, 1)                 257       \n",
      "=================================================================\n",
      "Total params: 59,895\n",
      "Trainable params: 59,599\n",
      "Non-trainable params: 296\n",
      "_________________________________________________________________\n"
     ]
    }
   ],
   "source": [
    "model.summary()"
   ]
  },
  {
   "cell_type": "code",
   "execution_count": 20,
   "metadata": {},
   "outputs": [],
   "source": [
    "model.compile(optimizers.RMSprop(lr=2E-4),\n",
    "             loss='binary_crossentropy',\n",
    "             metrics=['accuracy'])"
   ]
  },
  {
   "cell_type": "code",
   "execution_count": 21,
   "metadata": {},
   "outputs": [
    {
     "name": "stdout",
     "output_type": "stream",
     "text": [
      "WARNING:tensorflow:From /opt/conda/lib/python3.6/site-packages/tensorflow/python/ops/math_ops.py:3066: to_int32 (from tensorflow.python.ops.math_ops) is deprecated and will be removed in a future version.\n",
      "Instructions for updating:\n",
      "Use tf.cast instead.\n",
      "Train on 180000 samples, validate on 20000 samples\n",
      "Epoch 1/50\n",
      "180000/180000 [==============================] - 46s 257us/step - loss: 0.3023 - acc: 0.9005 - val_loss: 0.2600 - val_acc: 0.9082\n",
      "Epoch 2/50\n",
      "180000/180000 [==============================] - 44s 243us/step - loss: 0.2570 - acc: 0.9078 - val_loss: 0.2477 - val_acc: 0.9117\n",
      "Epoch 3/50\n",
      "180000/180000 [==============================] - 43s 238us/step - loss: 0.2500 - acc: 0.9094 - val_loss: 0.2392 - val_acc: 0.9143\n",
      "Epoch 4/50\n",
      "180000/180000 [==============================] - 43s 240us/step - loss: 0.2470 - acc: 0.9105 - val_loss: 0.2393 - val_acc: 0.9141\n",
      "Epoch 5/50\n",
      "180000/180000 [==============================] - 43s 240us/step - loss: 0.2461 - acc: 0.9100 - val_loss: 0.2356 - val_acc: 0.9144\n",
      "Epoch 6/50\n",
      "180000/180000 [==============================] - 43s 237us/step - loss: 0.2454 - acc: 0.9111 - val_loss: 0.2347 - val_acc: 0.9142\n",
      "Epoch 7/50\n",
      "180000/180000 [==============================] - 43s 238us/step - loss: 0.2450 - acc: 0.9108 - val_loss: 0.2342 - val_acc: 0.9144\n",
      "Epoch 8/50\n",
      "180000/180000 [==============================] - 43s 237us/step - loss: 0.2442 - acc: 0.9109 - val_loss: 0.2345 - val_acc: 0.9145\n",
      "Epoch 9/50\n",
      " 26464/180000 [===>..........................] - ETA: 35s - loss: 0.2424 - acc: 0.9131"
     ]
    }
   ],
   "source": [
    "history = model.fit(x_train_vec,y_train_vec,\n",
    "                  batch_size=32,epochs=50,\n",
    "                  validation_data=(x_valid_vec,y_valid_vec))"
   ]
  },
  {
   "cell_type": "code",
   "execution_count": 22,
   "metadata": {},
   "outputs": [],
   "source": [
    "nn_result = model.predict(x_test)"
   ]
  },
  {
   "cell_type": "code",
   "execution_count": 23,
   "metadata": {},
   "outputs": [],
   "source": [
    "nn_result = nn_result.reshape(1,200000)"
   ]
  },
  {
   "cell_type": "code",
   "execution_count": 24,
   "metadata": {},
   "outputs": [
    {
     "name": "stdout",
     "output_type": "stream",
     "text": [
      "\n",
      " >> CV score: 0.85893 \n"
     ]
    }
   ],
   "source": [
    "from sklearn.metrics import roc_auc_score\n",
    "nn_train_result = model.predict(x_train)\n",
    "print(\"\\n >> CV score: {:<8.5f}\".format(roc_auc_score(y_train, nn_train_result)))"
   ]
  },
  {
   "cell_type": "markdown",
   "metadata": {},
   "source": [
    "## **XBG**\n"
   ]
  },
  {
   "cell_type": "code",
   "execution_count": 25,
   "metadata": {},
   "outputs": [],
   "source": [
    "from xgboost import XGBClassifier\n",
    "import xgboost as xgb\n",
    "from skopt import BayesSearchCV\n",
    "from sklearn.model_selection import StratifiedKFold\n"
   ]
  },
  {
   "cell_type": "code",
   "execution_count": 26,
   "metadata": {},
   "outputs": [],
   "source": [
    "skf = StratifiedKFold(n_splits =4,random_state = 0,shuffle=False)\n",
    "for train_index, test_index in skf.split(x_train_a,y_train_a):\n",
    "    x_train_skf,x_val_skf = x_train_a[train_index],x_train_a[test_index]\n",
    "    y_train_skf,y_val_skf = y_train_a[train_index],y_train_a[test_index]\n",
    "    "
   ]
  },
  {
   "cell_type": "code",
   "execution_count": 27,
   "metadata": {},
   "outputs": [
    {
     "name": "stdout",
     "output_type": "stream",
     "text": [
      "[0]\tvalidation_0-auc:0.611406\tvalidation_1-auc:0.607654\n",
      "Multiple eval metrics have been passed: 'validation_1-auc' will be used for early stopping.\n",
      "\n",
      "Will train until validation_1-auc hasn't improved in 10 rounds.\n",
      "[1]\tvalidation_0-auc:0.682545\tvalidation_1-auc:0.676406\n",
      "[2]\tvalidation_0-auc:0.72716\tvalidation_1-auc:0.721336\n",
      "[3]\tvalidation_0-auc:0.749117\tvalidation_1-auc:0.740756\n",
      "[4]\tvalidation_0-auc:0.773073\tvalidation_1-auc:0.75725\n",
      "[5]\tvalidation_0-auc:0.780537\tvalidation_1-auc:0.759002\n",
      "[6]\tvalidation_0-auc:0.792754\tvalidation_1-auc:0.763056\n",
      "[7]\tvalidation_0-auc:0.808476\tvalidation_1-auc:0.766319\n",
      "[8]\tvalidation_0-auc:0.82869\tvalidation_1-auc:0.774436\n",
      "[9]\tvalidation_0-auc:0.8414\tvalidation_1-auc:0.779084\n",
      "[10]\tvalidation_0-auc:0.853502\tvalidation_1-auc:0.78305\n",
      "[11]\tvalidation_0-auc:0.865421\tvalidation_1-auc:0.788624\n",
      "[12]\tvalidation_0-auc:0.872777\tvalidation_1-auc:0.79355\n",
      "[13]\tvalidation_0-auc:0.881118\tvalidation_1-auc:0.800998\n",
      "[14]\tvalidation_0-auc:0.885355\tvalidation_1-auc:0.804065\n",
      "[15]\tvalidation_0-auc:0.888625\tvalidation_1-auc:0.807424\n",
      "[16]\tvalidation_0-auc:0.891569\tvalidation_1-auc:0.809564\n",
      "[17]\tvalidation_0-auc:0.894127\tvalidation_1-auc:0.812557\n",
      "[18]\tvalidation_0-auc:0.898829\tvalidation_1-auc:0.817491\n",
      "[19]\tvalidation_0-auc:0.90213\tvalidation_1-auc:0.820401\n",
      "[20]\tvalidation_0-auc:0.904491\tvalidation_1-auc:0.82353\n",
      "[21]\tvalidation_0-auc:0.90738\tvalidation_1-auc:0.826761\n",
      "[22]\tvalidation_0-auc:0.910743\tvalidation_1-auc:0.830353\n",
      "[23]\tvalidation_0-auc:0.913706\tvalidation_1-auc:0.833353\n",
      "[24]\tvalidation_0-auc:0.917857\tvalidation_1-auc:0.837593\n",
      "[25]\tvalidation_0-auc:0.920013\tvalidation_1-auc:0.839233\n",
      "[26]\tvalidation_0-auc:0.923085\tvalidation_1-auc:0.842094\n",
      "[27]\tvalidation_0-auc:0.925686\tvalidation_1-auc:0.843819\n",
      "[28]\tvalidation_0-auc:0.9283\tvalidation_1-auc:0.846163\n",
      "[29]\tvalidation_0-auc:0.931358\tvalidation_1-auc:0.848631\n",
      "[30]\tvalidation_0-auc:0.933907\tvalidation_1-auc:0.850978\n",
      "[31]\tvalidation_0-auc:0.936314\tvalidation_1-auc:0.852944\n",
      "[32]\tvalidation_0-auc:0.938429\tvalidation_1-auc:0.854329\n",
      "[33]\tvalidation_0-auc:0.940525\tvalidation_1-auc:0.855983\n",
      "[34]\tvalidation_0-auc:0.942319\tvalidation_1-auc:0.856923\n",
      "[35]\tvalidation_0-auc:0.944191\tvalidation_1-auc:0.858251\n",
      "[36]\tvalidation_0-auc:0.945702\tvalidation_1-auc:0.859259\n",
      "[37]\tvalidation_0-auc:0.94718\tvalidation_1-auc:0.860396\n",
      "[38]\tvalidation_0-auc:0.948438\tvalidation_1-auc:0.861259\n",
      "[39]\tvalidation_0-auc:0.949752\tvalidation_1-auc:0.862123\n",
      "[40]\tvalidation_0-auc:0.95133\tvalidation_1-auc:0.862889\n",
      "[41]\tvalidation_0-auc:0.952525\tvalidation_1-auc:0.863728\n",
      "[42]\tvalidation_0-auc:0.95389\tvalidation_1-auc:0.864363\n",
      "[43]\tvalidation_0-auc:0.955168\tvalidation_1-auc:0.86539\n",
      "[44]\tvalidation_0-auc:0.956547\tvalidation_1-auc:0.866391\n",
      "[45]\tvalidation_0-auc:0.957781\tvalidation_1-auc:0.867342\n",
      "[46]\tvalidation_0-auc:0.958756\tvalidation_1-auc:0.867936\n",
      "[47]\tvalidation_0-auc:0.959729\tvalidation_1-auc:0.868726\n",
      "[48]\tvalidation_0-auc:0.960734\tvalidation_1-auc:0.869122\n",
      "[49]\tvalidation_0-auc:0.961509\tvalidation_1-auc:0.86961\n",
      "[50]\tvalidation_0-auc:0.962408\tvalidation_1-auc:0.870173\n",
      "[51]\tvalidation_0-auc:0.963402\tvalidation_1-auc:0.870787\n",
      "[52]\tvalidation_0-auc:0.964233\tvalidation_1-auc:0.871263\n",
      "[53]\tvalidation_0-auc:0.965109\tvalidation_1-auc:0.871651\n",
      "[54]\tvalidation_0-auc:0.966\tvalidation_1-auc:0.872144\n",
      "[55]\tvalidation_0-auc:0.96679\tvalidation_1-auc:0.872613\n",
      "[56]\tvalidation_0-auc:0.967604\tvalidation_1-auc:0.873092\n",
      "[57]\tvalidation_0-auc:0.968329\tvalidation_1-auc:0.873441\n",
      "[58]\tvalidation_0-auc:0.969152\tvalidation_1-auc:0.873856\n",
      "[59]\tvalidation_0-auc:0.969856\tvalidation_1-auc:0.87431\n",
      "[60]\tvalidation_0-auc:0.97058\tvalidation_1-auc:0.8748\n",
      "[61]\tvalidation_0-auc:0.971173\tvalidation_1-auc:0.875093\n",
      "[62]\tvalidation_0-auc:0.971856\tvalidation_1-auc:0.875403\n",
      "[63]\tvalidation_0-auc:0.972467\tvalidation_1-auc:0.875857\n",
      "[64]\tvalidation_0-auc:0.973059\tvalidation_1-auc:0.876195\n",
      "[65]\tvalidation_0-auc:0.973628\tvalidation_1-auc:0.876381\n",
      "[66]\tvalidation_0-auc:0.974223\tvalidation_1-auc:0.876753\n",
      "[67]\tvalidation_0-auc:0.974684\tvalidation_1-auc:0.877007\n",
      "[68]\tvalidation_0-auc:0.975252\tvalidation_1-auc:0.877348\n",
      "[69]\tvalidation_0-auc:0.975813\tvalidation_1-auc:0.877419\n",
      "[70]\tvalidation_0-auc:0.976394\tvalidation_1-auc:0.877601\n",
      "[71]\tvalidation_0-auc:0.97686\tvalidation_1-auc:0.877785\n",
      "[72]\tvalidation_0-auc:0.977381\tvalidation_1-auc:0.878056\n",
      "[73]\tvalidation_0-auc:0.977816\tvalidation_1-auc:0.878359\n",
      "[74]\tvalidation_0-auc:0.978332\tvalidation_1-auc:0.878617\n",
      "[75]\tvalidation_0-auc:0.978775\tvalidation_1-auc:0.878657\n",
      "[76]\tvalidation_0-auc:0.979215\tvalidation_1-auc:0.878772\n",
      "[77]\tvalidation_0-auc:0.979585\tvalidation_1-auc:0.878841\n",
      "[78]\tvalidation_0-auc:0.98004\tvalidation_1-auc:0.879115\n",
      "[79]\tvalidation_0-auc:0.980505\tvalidation_1-auc:0.879285\n",
      "[80]\tvalidation_0-auc:0.980901\tvalidation_1-auc:0.879456\n",
      "[81]\tvalidation_0-auc:0.981221\tvalidation_1-auc:0.879713\n",
      "[82]\tvalidation_0-auc:0.9816\tvalidation_1-auc:0.879841\n"
     ]
    }
   ],
   "source": [
    "clf = XGBClassifier(colsample_bylevel = 0.8015579071911014,\n",
    "        colsample_bytree = 0.44364889457651413,\n",
    "        gamma = 3.811128976537413e-05,\n",
    "        learning_rate = 0.2700390206185342,\n",
    "        max_delta_step = 18,\n",
    "        max_depth = 36,\n",
    "        min_child_weight = 2,\n",
    "        n_estimators = 83,\n",
    "        reg_alpha = 1.5057560255472018e-06,\n",
    "        reg_lambda = 0.08186810622382998,\n",
    "        scale_pos_weight = 0.02900459363415458,\n",
    "        subsample = 0.8835665823899177)\n",
    "clf.fit(x_train_skf,y_train_skf,eval_set = [(x_train_skf,y_train_skf),(x_val_skf,y_val_skf)],\n",
    "       eval_metric='auc',early_stopping_rounds=10)\n",
    "evals_results = clf.evals_result()"
   ]
  },
  {
   "cell_type": "code",
   "execution_count": 28,
   "metadata": {},
   "outputs": [
    {
     "data": {
      "text/plain": [
       "array([[ 11.0656,   7.7798,  12.9536, ...,  10.72  ,  15.4722,  -8.7197],\n",
       "       [  8.5304,   1.2543,  11.3047, ...,   9.8714,  19.1293, -20.976 ],\n",
       "       [  5.4827, -10.3581,  10.1407, ...,   7.0618,  19.8956, -23.1794],\n",
       "       ...,\n",
       "       [ 11.636 ,   2.2769,  11.2074, ...,   9.1933,  11.7905, -22.2762],\n",
       "       [ 13.5745,  -0.5134,  13.6584, ...,   8.1079,   8.7735,  -0.2122],\n",
       "       [ 10.4664,   1.807 ,  10.2277, ...,  10.3378,  14.334 ,  -7.7094]])"
      ]
     },
     "execution_count": 28,
     "metadata": {},
     "output_type": "execute_result"
    }
   ],
   "source": [
    "x_test_a = np.array(x_test)\n",
    "x_test_a"
   ]
  },
  {
   "cell_type": "code",
   "execution_count": 29,
   "metadata": {},
   "outputs": [],
   "source": [
    "xgb_result = clf.predict(x_test_a)"
   ]
  },
  {
   "cell_type": "code",
   "execution_count": 30,
   "metadata": {},
   "outputs": [],
   "source": [
    "xgb_result = xgb_result.reshape(1,200000)"
   ]
  },
  {
   "cell_type": "code",
   "execution_count": 31,
   "metadata": {},
   "outputs": [
    {
     "data": {
      "text/plain": [
       "array([[0., 0., 0., ..., 0., 0., 0.]])"
      ]
     },
     "execution_count": 31,
     "metadata": {},
     "output_type": "execute_result"
    }
   ],
   "source": [
    "xgb_result"
   ]
  },
  {
   "cell_type": "code",
   "execution_count": 32,
   "metadata": {},
   "outputs": [
    {
     "name": "stdout",
     "output_type": "stream",
     "text": [
      "\n",
      " >> CV score: 0.59756 \n"
     ]
    }
   ],
   "source": [
    "from sklearn.metrics import roc_auc_score\n",
    "xgb_train_result = clf.predict(x_train_a)\n",
    "print(\"\\n >> CV score: {:<8.5f}\".format(roc_auc_score(y_train_a, xgb_train_result)))"
   ]
  },
  {
   "cell_type": "markdown",
   "metadata": {},
   "source": [
    "## **LGB**"
   ]
  },
  {
   "cell_type": "code",
   "execution_count": 33,
   "metadata": {},
   "outputs": [],
   "source": [
    "import lightgbm as lgb\n",
    "from sklearn.metrics import roc_auc_score\n",
    "import warnings\n",
    "warnings.simplefilter(action='ignore', category=FutureWarning)\n",
    "warnings.filterwarnings('ignore')"
   ]
  },
  {
   "cell_type": "code",
   "execution_count": 34,
   "metadata": {},
   "outputs": [],
   "source": [
    "from sklearn.model_selection import KFold\n",
    "num_folds = 11\n",
    "features = [c for c in x_train.columns if c not in ['ID_code', 'target']]\n",
    "#target = x_train['target']\n",
    "\n",
    "folds = KFold(n_splits=num_folds, random_state=2319)\n",
    "#oof = np.zeros(len(x_train))\n",
    "#getVal = np.zeros(len(x_train))\n",
    "lgb_result = np.zeros(len(y_train))\n",
    "#feature_importance_df = pd.DataFrame()"
   ]
  },
  {
   "cell_type": "code",
   "execution_count": 35,
   "metadata": {},
   "outputs": [
    {
     "name": "stdout",
     "output_type": "stream",
     "text": [
      "Fold idx:1\n",
      "Training until validation scores don't improve for 4000 rounds.\n",
      "[5000]\ttraining's auc: 0.912047\tvalid_1's auc: 0.896537\n",
      "[10000]\ttraining's auc: 0.921936\tvalid_1's auc: 0.90067\n",
      "[15000]\ttraining's auc: 0.929487\tvalid_1's auc: 0.901356\n",
      "[20000]\ttraining's auc: 0.936352\tvalid_1's auc: 0.901039\n",
      "Early stopping, best iteration is:\n",
      "[16445]\ttraining's auc: 0.931512\tvalid_1's auc: 0.901398\n",
      "Fold idx:2\n",
      "Training until validation scores don't improve for 4000 rounds.\n",
      "[5000]\ttraining's auc: 0.912864\tvalid_1's auc: 0.895124\n",
      "[10000]\ttraining's auc: 0.922619\tvalid_1's auc: 0.89839\n",
      "[15000]\ttraining's auc: 0.930132\tvalid_1's auc: 0.898496\n",
      "Early stopping, best iteration is:\n",
      "[11853]\ttraining's auc: 0.925561\tvalid_1's auc: 0.898695\n",
      "Fold idx:3\n",
      "Training until validation scores don't improve for 4000 rounds.\n",
      "[5000]\ttraining's auc: 0.912482\tvalid_1's auc: 0.88983\n",
      "[10000]\ttraining's auc: 0.922325\tvalid_1's auc: 0.893084\n",
      "[15000]\ttraining's auc: 0.929923\tvalid_1's auc: 0.893396\n",
      "Early stopping, best iteration is:\n",
      "[14299]\ttraining's auc: 0.928911\tvalid_1's auc: 0.893474\n",
      "Fold idx:4\n",
      "Training until validation scores don't improve for 4000 rounds.\n",
      "[5000]\ttraining's auc: 0.912419\tvalid_1's auc: 0.899842\n",
      "[10000]\ttraining's auc: 0.922279\tvalid_1's auc: 0.902396\n",
      "[15000]\ttraining's auc: 0.929844\tvalid_1's auc: 0.903114\n",
      "Early stopping, best iteration is:\n",
      "[15018]\ttraining's auc: 0.92987\tvalid_1's auc: 0.903116\n",
      "Fold idx:5\n",
      "Training until validation scores don't improve for 4000 rounds.\n",
      "[5000]\ttraining's auc: 0.912496\tvalid_1's auc: 0.895578\n",
      "[10000]\ttraining's auc: 0.92235\tvalid_1's auc: 0.898356\n",
      "[15000]\ttraining's auc: 0.929857\tvalid_1's auc: 0.898331\n",
      "Early stopping, best iteration is:\n",
      "[11747]\ttraining's auc: 0.925089\tvalid_1's auc: 0.898552\n",
      "Fold idx:6\n",
      "Training until validation scores don't improve for 4000 rounds.\n",
      "[5000]\ttraining's auc: 0.912282\tvalid_1's auc: 0.89862\n",
      "[10000]\ttraining's auc: 0.922196\tvalid_1's auc: 0.90164\n",
      "[15000]\ttraining's auc: 0.929749\tvalid_1's auc: 0.901732\n",
      "Early stopping, best iteration is:\n",
      "[13017]\ttraining's auc: 0.926892\tvalid_1's auc: 0.901819\n",
      "Fold idx:7\n",
      "Training until validation scores don't improve for 4000 rounds.\n",
      "[5000]\ttraining's auc: 0.911789\tvalid_1's auc: 0.903382\n",
      "[10000]\ttraining's auc: 0.921712\tvalid_1's auc: 0.905646\n",
      "[15000]\ttraining's auc: 0.929312\tvalid_1's auc: 0.905685\n",
      "Early stopping, best iteration is:\n",
      "[12866]\ttraining's auc: 0.926204\tvalid_1's auc: 0.905869\n",
      "Fold idx:8\n",
      "Training until validation scores don't improve for 4000 rounds.\n",
      "[5000]\ttraining's auc: 0.912166\tvalid_1's auc: 0.896155\n",
      "[10000]\ttraining's auc: 0.922012\tvalid_1's auc: 0.899252\n",
      "[15000]\ttraining's auc: 0.929565\tvalid_1's auc: 0.899653\n",
      "[20000]\ttraining's auc: 0.936395\tvalid_1's auc: 0.899452\n",
      "Early stopping, best iteration is:\n",
      "[17520]\ttraining's auc: 0.933081\tvalid_1's auc: 0.899701\n",
      "Fold idx:9\n",
      "Training until validation scores don't improve for 4000 rounds.\n",
      "[5000]\ttraining's auc: 0.912434\tvalid_1's auc: 0.900217\n",
      "[10000]\ttraining's auc: 0.922205\tvalid_1's auc: 0.903582\n",
      "[15000]\ttraining's auc: 0.929751\tvalid_1's auc: 0.903852\n",
      "[20000]\ttraining's auc: 0.936628\tvalid_1's auc: 0.903636\n",
      "Early stopping, best iteration is:\n",
      "[16005]\ttraining's auc: 0.931166\tvalid_1's auc: 0.904025\n",
      "Fold idx:10\n",
      "Training until validation scores don't improve for 4000 rounds.\n",
      "[5000]\ttraining's auc: 0.912036\tvalid_1's auc: 0.902808\n",
      "[10000]\ttraining's auc: 0.921878\tvalid_1's auc: 0.905798\n",
      "[15000]\ttraining's auc: 0.929413\tvalid_1's auc: 0.906028\n",
      "Early stopping, best iteration is:\n",
      "[14252]\ttraining's auc: 0.928337\tvalid_1's auc: 0.906117\n",
      "Fold idx:11\n",
      "Training until validation scores don't improve for 4000 rounds.\n",
      "[5000]\ttraining's auc: 0.912505\tvalid_1's auc: 0.897699\n",
      "[10000]\ttraining's auc: 0.922448\tvalid_1's auc: 0.900281\n",
      "[15000]\ttraining's auc: 0.930015\tvalid_1's auc: 0.900586\n",
      "[20000]\ttraining's auc: 0.936846\tvalid_1's auc: 0.900465\n",
      "Early stopping, best iteration is:\n",
      "[17670]\ttraining's auc: 0.933701\tvalid_1's auc: 0.900667\n"
     ]
    }
   ],
   "source": [
    "param = {\n",
    "    'bagging_freq': 5,\n",
    "    'bagging_fraction': 0.335,\n",
    "    'boost_from_average':'false',\n",
    "    'boost': 'gbdt',\n",
    "    'feature_fraction': 0.041,\n",
    "    'learning_rate': 0.0083,\n",
    "    'max_depth': -1,\n",
    "    'metric':'auc',\n",
    "    'min_data_in_leaf': 80,\n",
    "    'min_sum_hessian_in_leaf': 10.0,\n",
    "    'num_leaves': 13,\n",
    "    'num_threads': 8,\n",
    "    'tree_learner': 'serial',\n",
    "    'objective': 'binary', \n",
    "    'verbosity': -1\n",
    "}\n",
    "\n",
    "for fold_, (trn_idx, val_idx) in enumerate(folds.split(x_train.values, y_train.values)):\n",
    "    \n",
    "    X_train_lgb, y_train_lgb = x_train.iloc[trn_idx], y_train.iloc[trn_idx]\n",
    "    X_valid_lgb, y_valid_lgb = x_train.iloc[val_idx], y_train.iloc[val_idx]\n",
    "    \n",
    "    X_tr, y_tr = augment(X_train_lgb.values, y_train_lgb.values)\n",
    "    X_tr = pd.DataFrame(X_tr)\n",
    "    \n",
    "    print(\"Fold idx:{}\".format(fold_ + 1))\n",
    "    trn_data = lgb.Dataset(X_tr, label=y_tr)\n",
    "    val_data = lgb.Dataset(X_valid_lgb, label=y_valid_lgb)\n",
    "    \n",
    "    clf = lgb.train(param, trn_data, 1000000, valid_sets = [trn_data, val_data], verbose_eval=5000, early_stopping_rounds = 4000)\n",
    "    #oof[val_idx] = clf.predict(x_train.iloc[val_idx], num_iteration=clf.best_iteration)\n",
    "    #getVal[val_idx]+= clf.predict(x_train.iloc[val_idx], num_iteration=clf.best_iteration) / folds.n_splits\n",
    "    \n",
    "    #fold_importance_df = pd.DataFrame()\n",
    "    #fold_importance_df[\"feature\"] = features\n",
    "    #fold_importance_df[\"importance\"] = clf.feature_importance()\n",
    "    #fold_importance_df[\"fold\"] = fold_ + 1\n",
    "    #feature_importance_df = pd.concat([feature_importance_df, fold_importance_df], axis=0)\n",
    "    \n",
    "    lgb_result += clf.predict(x_test, num_iteration=clf.best_iteration) / folds.n_splits"
   ]
  },
  {
   "cell_type": "code",
   "execution_count": 36,
   "metadata": {},
   "outputs": [
    {
     "name": "stdout",
     "output_type": "stream",
     "text": [
      "\n",
      " >> CV score: 0.93071 \n"
     ]
    }
   ],
   "source": [
    "from sklearn.metrics import roc_auc_score\n",
    "lgb_train_result = clf.predict(x_train)\n",
    "print(\"\\n >> CV score: {:<8.5f}\".format(roc_auc_score(y_train, lgb_train_result)))"
   ]
  },
  {
   "cell_type": "code",
   "execution_count": 37,
   "metadata": {},
   "outputs": [],
   "source": [
    "lgb_result = lgb_result.reshape(1,200000)"
   ]
  },
  {
   "cell_type": "code",
   "execution_count": 38,
   "metadata": {},
   "outputs": [],
   "source": [
    "lg_r = np.array(lgb_result)"
   ]
  },
  {
   "cell_type": "markdown",
   "metadata": {},
   "source": [
    "**result**"
   ]
  },
  {
   "cell_type": "code",
   "execution_count": 39,
   "metadata": {},
   "outputs": [],
   "source": [
    "n = 0.4*nn_result + 0.2*xgb_result + 0.4*lg_r"
   ]
  },
  {
   "cell_type": "code",
   "execution_count": 40,
   "metadata": {},
   "outputs": [],
   "source": [
    "final_result = n.reshape(200000,1)"
   ]
  },
  {
   "cell_type": "code",
   "execution_count": 41,
   "metadata": {},
   "outputs": [],
   "source": [
    "\n",
    "sample_submission['target'] = final_result\n",
    "sample_submission.to_csv('submission.csv',index = False)"
   ]
  },
  {
   "cell_type": "code",
   "execution_count": 42,
   "metadata": {},
   "outputs": [],
   "source": []
  }
 ],
 "metadata": {
  "kernelspec": {
   "display_name": "Python 3",
   "language": "python",
   "name": "python3"
  },
  "language_info": {
   "codemirror_mode": {
    "name": "ipython",
    "version": 3
   },
   "file_extension": ".py",
   "mimetype": "text/x-python",
   "name": "python",
   "nbconvert_exporter": "python",
   "pygments_lexer": "ipython3",
   "version": "3.6.4"
  }
 },
 "nbformat": 4,
 "nbformat_minor": 1
}
