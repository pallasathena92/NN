{
  "nbformat": 4,
  "nbformat_minor": 0,
  "metadata": {
    "colab": {
      "name": "Untitled0.ipynb",
      "version": "0.3.2",
      "provenance": [],
      "include_colab_link": true
    },
    "kernelspec": {
      "name": "python3",
      "display_name": "Python 3"
    },
    "accelerator": "GPU"
  },
  "cells": [
    {
      "cell_type": "markdown",
      "metadata": {
        "id": "view-in-github",
        "colab_type": "text"
      },
      "source": [
        "<a href=\"https://colab.research.google.com/github/pallasathena92/NN/blob/master/Untitled0.ipynb\" target=\"_parent\"><img src=\"https://colab.research.google.com/assets/colab-badge.svg\" alt=\"Open In Colab\"/></a>"
      ]
    },
    {
      "metadata": {
        "id": "k489TbNrx8OP",
        "colab_type": "text"
      },
      "cell_type": "markdown",
      "source": [
        "## **1. Data preparation**"
      ]
    },
    {
      "metadata": {
        "id": "yiKxxYlUssnr",
        "colab_type": "code",
        "colab": {
          "base_uri": "https://localhost:8080/",
          "height": 123
        },
        "outputId": "2145a237-431d-4ac1-c7aa-cfbc7c7d6156"
      },
      "cell_type": "code",
      "source": [
        "from keras.datasets import cifar10\n",
        "import numpy as np\n",
        "\n",
        "(x_train, y_train), (x_test, y_test) = cifar10.load_data()\n",
        "\n",
        "print('shape of x_train: ' + str(x_train.shape))\n",
        "print('shape of y_train: ' + str(y_train.shape))\n",
        "print('shape of x_test: ' + str(x_test.shape))\n",
        "print('shape of y_test: ' + str(y_test.shape))\n",
        "print('number of classes: ' + str(np.max(y_train) - np.min(y_train) + 1))"
      ],
      "execution_count": 1,
      "outputs": [
        {
          "output_type": "stream",
          "text": [
            "Using TensorFlow backend.\n"
          ],
          "name": "stderr"
        },
        {
          "output_type": "stream",
          "text": [
            "shape of x_train: (50000, 32, 32, 3)\n",
            "shape of y_train: (50000, 1)\n",
            "shape of x_test: (10000, 32, 32, 3)\n",
            "shape of y_test: (10000, 1)\n",
            "number of classes: 10\n"
          ],
          "name": "stdout"
        }
      ]
    },
    {
      "metadata": {
        "id": "m2EDP7Ctsukz",
        "colab_type": "code",
        "colab": {
          "base_uri": "https://localhost:8080/",
          "height": 87
        },
        "outputId": "8450f32b-34ed-48cb-b13b-48ded88e71b7"
      },
      "cell_type": "code",
      "source": [
        "def to_one_hot(y, num_class=10):\n",
        "    \n",
        "    results =  np.zeros((len(y), num_class))\n",
        "    for i, label in enumerate(y):\n",
        "        results[i, label] = 1.\n",
        "    return results\n",
        "\n",
        "y_train_vec = to_one_hot(y_train)\n",
        "y_test_vec = to_one_hot(y_test)\n",
        "\n",
        "print('Shape of y_train_vec: ' + str(y_train_vec.shape))\n",
        "print('Shape of y_test_vec: ' + str(y_test_vec.shape))\n",
        "\n",
        "print(y_train[0])\n",
        "print(y_train_vec[0])"
      ],
      "execution_count": 2,
      "outputs": [
        {
          "output_type": "stream",
          "text": [
            "Shape of y_train_vec: (50000, 10)\n",
            "Shape of y_test_vec: (10000, 10)\n",
            "[6]\n",
            "[0. 0. 0. 0. 0. 0. 1. 0. 0. 0.]\n"
          ],
          "name": "stdout"
        }
      ]
    },
    {
      "metadata": {
        "id": "5DKLRe2Osy3g",
        "colab_type": "code",
        "colab": {
          "base_uri": "https://localhost:8080/",
          "height": 87
        },
        "outputId": "c8ad2414-7a95-461d-8c9b-7511738fdd21"
      },
      "cell_type": "code",
      "source": [
        "rand_indices = np.random.permutation(50000)\n",
        "train_indices = rand_indices[0:40000]\n",
        "valid_indices = rand_indices[40000:50000]\n",
        "\n",
        "x_val = x_train[valid_indices, :]\n",
        "y_val = y_train_vec[valid_indices, :]\n",
        "\n",
        "x_tr = x_train[train_indices, :]\n",
        "y_tr = y_train_vec[train_indices, :]\n",
        "\n",
        "print('Shape of x_tr: ' + str(x_tr.shape))\n",
        "print('Shape of y_tr: ' + str(y_tr.shape))\n",
        "print('Shape of x_val: ' + str(x_val.shape))\n",
        "print('Shape of y_val: ' + str(y_val.shape))"
      ],
      "execution_count": 3,
      "outputs": [
        {
          "output_type": "stream",
          "text": [
            "Shape of x_tr: (40000, 32, 32, 3)\n",
            "Shape of y_tr: (40000, 10)\n",
            "Shape of x_val: (10000, 32, 32, 3)\n",
            "Shape of y_val: (10000, 10)\n"
          ],
          "name": "stdout"
        }
      ]
    },
    {
      "metadata": {
        "id": "9ZUna7T6wnfa",
        "colab_type": "text"
      },
      "cell_type": "markdown",
      "source": [
        "## **2. Build a CNN and tune its hyper-parameters**"
      ]
    },
    {
      "metadata": {
        "id": "STnBszozs-xY",
        "colab_type": "code",
        "colab": {}
      },
      "cell_type": "code",
      "source": [
        "import keras\n",
        "train_datagen = keras.preprocessing.image.ImageDataGenerator(\n",
        "    rotation_range = 40,\n",
        "    width_shift_range = 0.2,\n",
        "    height_shift_range = 0.2,\n",
        "    shear_range = 0.2,\n",
        "    zoom_range = 0.2,\n",
        "    horizontal_flip = True\n",
        ")"
      ],
      "execution_count": 0,
      "outputs": []
    },
    {
      "metadata": {
        "id": "LAmrqh-_tAg1",
        "colab_type": "code",
        "colab": {}
      },
      "cell_type": "code",
      "source": [
        "train_generator = train_datagen.flow(\n",
        "    x_tr,\n",
        "    y_tr,\n",
        "    batch_size = 32\n",
        ")\n",
        "valid_generator = train_datagen.flow(\n",
        "    x_val,\n",
        "    y_val,\n",
        "    batch_size = 32\n",
        ")"
      ],
      "execution_count": 0,
      "outputs": []
    },
    {
      "metadata": {
        "id": "z-pXsi-4tBzC",
        "colab_type": "code",
        "colab": {
          "base_uri": "https://localhost:8080/",
          "height": 1267
        },
        "outputId": "be07c9e3-e276-48f8-983d-994c63069eca"
      },
      "cell_type": "code",
      "source": [
        "from keras.layers import Conv2D, MaxPooling2D, Flatten, Dense,Dropout,BatchNormalization,Activation,ZeroPadding2D\n",
        "from keras.models import Sequential\n",
        "\n",
        "model = Sequential()\n",
        "\n",
        "model.add(Conv2D(32, (3, 3), activation = 'relu',padding='same', \n",
        "                 input_shape=(32, 32, 3)))\n",
        "model.add(Conv2D(32,(3,3),padding = 'same'))\n",
        "model.add(BatchNormalization ())\n",
        "model.add(Activation(\"relu\"))\n",
        "model.add(MaxPooling2D((2, 2)))\n",
        "\n",
        "model.add(Conv2D(48, (3, 3),activation = 'relu',padding='same'))\n",
        "model.add(Conv2D(48,(3,3),padding = 'same'))\n",
        "model.add(BatchNormalization())\n",
        "model.add(Activation(\"relu\"))\n",
        "model.add(MaxPooling2D((2, 2)))\n",
        "\n",
        "model.add(Conv2D(64, (3, 3), activation = 'relu',padding='same'))\n",
        "model.add(Conv2D(64, (3, 3), activation = 'relu',padding='same'))\n",
        "model.add(Conv2D(64,(3,3),padding = 'same'))\n",
        "model.add(BatchNormalization())\n",
        "model.add(Activation(\"relu\"))\n",
        "model.add(MaxPooling2D((2, 2)))\n",
        "\n",
        "model.add(Conv2D(80, (3, 3), activation = 'relu',padding='same'))\n",
        "model.add(Conv2D(80, (3, 3), activation = 'relu',padding='same'))\n",
        "model.add(Conv2D(80,(3,3),padding = 'same'))\n",
        "model.add(BatchNormalization())\n",
        "model.add(Activation(\"relu\"))\n",
        "model.add(MaxPooling2D((2, 2)))\n",
        "\n",
        "model.add(Conv2D(128, (3, 3), activation = 'relu',padding='same'))\n",
        "model.add(Conv2D(128, (3, 3), activation = 'relu',padding='same'))\n",
        "model.add(Conv2D(128,(3,3),padding = 'same'))\n",
        "model.add(BatchNormalization())\n",
        "model.add(Activation(\"relu\"))\n",
        "model.add(MaxPooling2D((2, 2)))\n",
        "\n",
        "model.add(Flatten())\n",
        "model.add(Dropout(0.5))\n",
        "model.add(Dense(256, activation='relu'))\n",
        "model.add(Dense(10, activation='softmax'))\n",
        "\n",
        "model.summary()"
      ],
      "execution_count": 13,
      "outputs": [
        {
          "output_type": "stream",
          "text": [
            "_________________________________________________________________\n",
            "Layer (type)                 Output Shape              Param #   \n",
            "=================================================================\n",
            "conv2d_11 (Conv2D)           (None, 32, 32, 32)        896       \n",
            "_________________________________________________________________\n",
            "conv2d_12 (Conv2D)           (None, 32, 32, 32)        9248      \n",
            "_________________________________________________________________\n",
            "batch_normalization_5 (Batch (None, 32, 32, 32)        128       \n",
            "_________________________________________________________________\n",
            "activation_5 (Activation)    (None, 32, 32, 32)        0         \n",
            "_________________________________________________________________\n",
            "max_pooling2d_5 (MaxPooling2 (None, 16, 16, 32)        0         \n",
            "_________________________________________________________________\n",
            "conv2d_13 (Conv2D)           (None, 16, 16, 48)        13872     \n",
            "_________________________________________________________________\n",
            "conv2d_14 (Conv2D)           (None, 16, 16, 48)        20784     \n",
            "_________________________________________________________________\n",
            "batch_normalization_6 (Batch (None, 16, 16, 48)        192       \n",
            "_________________________________________________________________\n",
            "activation_6 (Activation)    (None, 16, 16, 48)        0         \n",
            "_________________________________________________________________\n",
            "max_pooling2d_6 (MaxPooling2 (None, 8, 8, 48)          0         \n",
            "_________________________________________________________________\n",
            "conv2d_15 (Conv2D)           (None, 8, 8, 64)          27712     \n",
            "_________________________________________________________________\n",
            "conv2d_16 (Conv2D)           (None, 8, 8, 64)          36928     \n",
            "_________________________________________________________________\n",
            "conv2d_17 (Conv2D)           (None, 8, 8, 64)          36928     \n",
            "_________________________________________________________________\n",
            "batch_normalization_7 (Batch (None, 8, 8, 64)          256       \n",
            "_________________________________________________________________\n",
            "activation_7 (Activation)    (None, 8, 8, 64)          0         \n",
            "_________________________________________________________________\n",
            "max_pooling2d_7 (MaxPooling2 (None, 4, 4, 64)          0         \n",
            "_________________________________________________________________\n",
            "conv2d_18 (Conv2D)           (None, 4, 4, 80)          46160     \n",
            "_________________________________________________________________\n",
            "conv2d_19 (Conv2D)           (None, 4, 4, 80)          57680     \n",
            "_________________________________________________________________\n",
            "conv2d_20 (Conv2D)           (None, 4, 4, 80)          57680     \n",
            "_________________________________________________________________\n",
            "batch_normalization_8 (Batch (None, 4, 4, 80)          320       \n",
            "_________________________________________________________________\n",
            "activation_8 (Activation)    (None, 4, 4, 80)          0         \n",
            "_________________________________________________________________\n",
            "max_pooling2d_8 (MaxPooling2 (None, 2, 2, 80)          0         \n",
            "_________________________________________________________________\n",
            "conv2d_21 (Conv2D)           (None, 2, 2, 128)         92288     \n",
            "_________________________________________________________________\n",
            "conv2d_22 (Conv2D)           (None, 2, 2, 128)         147584    \n",
            "_________________________________________________________________\n",
            "conv2d_23 (Conv2D)           (None, 2, 2, 128)         147584    \n",
            "_________________________________________________________________\n",
            "batch_normalization_9 (Batch (None, 2, 2, 128)         512       \n",
            "_________________________________________________________________\n",
            "activation_9 (Activation)    (None, 2, 2, 128)         0         \n",
            "_________________________________________________________________\n",
            "max_pooling2d_9 (MaxPooling2 (None, 1, 1, 128)         0         \n",
            "_________________________________________________________________\n",
            "flatten_2 (Flatten)          (None, 128)               0         \n",
            "_________________________________________________________________\n",
            "dropout_2 (Dropout)          (None, 128)               0         \n",
            "_________________________________________________________________\n",
            "dense_3 (Dense)              (None, 256)               33024     \n",
            "_________________________________________________________________\n",
            "dense_4 (Dense)              (None, 10)                2570      \n",
            "=================================================================\n",
            "Total params: 732,346\n",
            "Trainable params: 731,642\n",
            "Non-trainable params: 704\n",
            "_________________________________________________________________\n"
          ],
          "name": "stdout"
        }
      ]
    },
    {
      "metadata": {
        "id": "Xf-ZYBvltFka",
        "colab_type": "code",
        "colab": {}
      },
      "cell_type": "code",
      "source": [
        "from keras import optimizers\n",
        "\n",
        "learning_rate = 2E-4 # to be tuned!\n",
        "\n",
        "model.compile(loss='categorical_crossentropy',\n",
        "              optimizer=optimizers.RMSprop(lr=learning_rate),\n",
        "              metrics=['acc'])"
      ],
      "execution_count": 0,
      "outputs": []
    },
    {
      "metadata": {
        "id": "NGFHq3W7tI1u",
        "colab_type": "code",
        "colab": {
          "base_uri": "https://localhost:8080/",
          "height": 3537
        },
        "outputId": "6627f22a-6d61-43df-f7c9-473a0210bb2e"
      },
      "cell_type": "code",
      "source": [
        "history = model.fit_generator(\n",
        "        train_generator,\n",
        "        steps_per_epoch=x_tr.shape[0] // 32,\n",
        "        epochs=100,\n",
        "        validation_data=valid_generator,\n",
        "        validation_steps=800)"
      ],
      "execution_count": 15,
      "outputs": [
        {
          "output_type": "stream",
          "text": [
            "Epoch 1/100\n",
            "1250/1250 [==============================] - 56s 44ms/step - loss: 1.8878 - acc: 0.3060 - val_loss: 1.6586 - val_acc: 0.3966\n",
            "Epoch 2/100\n",
            "1250/1250 [==============================] - 54s 43ms/step - loss: 1.6075 - acc: 0.4163 - val_loss: 1.5860 - val_acc: 0.4205\n",
            "Epoch 3/100\n",
            "1250/1250 [==============================] - 54s 44ms/step - loss: 1.4803 - acc: 0.4680 - val_loss: 1.4478 - val_acc: 0.4685\n",
            "Epoch 4/100\n",
            "1250/1250 [==============================] - 53s 43ms/step - loss: 1.4073 - acc: 0.4952 - val_loss: 1.4070 - val_acc: 0.4975\n",
            "Epoch 5/100\n",
            "1250/1250 [==============================] - 54s 43ms/step - loss: 1.3381 - acc: 0.5240 - val_loss: 1.7551 - val_acc: 0.4321\n",
            "Epoch 6/100\n",
            "1250/1250 [==============================] - 54s 43ms/step - loss: 1.2775 - acc: 0.5494 - val_loss: 1.7377 - val_acc: 0.4370\n",
            "Epoch 7/100\n",
            "1250/1250 [==============================] - 54s 43ms/step - loss: 1.2348 - acc: 0.5642 - val_loss: 1.3260 - val_acc: 0.5391\n",
            "Epoch 8/100\n",
            "1250/1250 [==============================] - 53s 43ms/step - loss: 1.1986 - acc: 0.5794 - val_loss: 1.2814 - val_acc: 0.5545\n",
            "Epoch 9/100\n",
            "1250/1250 [==============================] - 54s 43ms/step - loss: 1.1633 - acc: 0.5934 - val_loss: 1.2416 - val_acc: 0.5617\n",
            "Epoch 10/100\n",
            "1250/1250 [==============================] - 53s 42ms/step - loss: 1.1328 - acc: 0.6086 - val_loss: 1.2336 - val_acc: 0.5770\n",
            "Epoch 11/100\n",
            "1250/1250 [==============================] - 53s 42ms/step - loss: 1.1057 - acc: 0.6130 - val_loss: 1.1460 - val_acc: 0.5981\n",
            "Epoch 12/100\n",
            "1250/1250 [==============================] - 54s 43ms/step - loss: 1.0910 - acc: 0.6281 - val_loss: 1.1901 - val_acc: 0.5779\n",
            "Epoch 13/100\n",
            "1250/1250 [==============================] - 54s 43ms/step - loss: 1.0667 - acc: 0.6314 - val_loss: 1.1883 - val_acc: 0.5833\n",
            "Epoch 14/100\n",
            "1250/1250 [==============================] - 54s 43ms/step - loss: 1.0352 - acc: 0.6431 - val_loss: 1.0485 - val_acc: 0.6386\n",
            "Epoch 15/100\n",
            "1250/1250 [==============================] - 54s 43ms/step - loss: 1.0242 - acc: 0.6489 - val_loss: 1.1832 - val_acc: 0.6010\n",
            "Epoch 16/100\n",
            "1250/1250 [==============================] - 53s 43ms/step - loss: 1.0097 - acc: 0.6542 - val_loss: 1.0349 - val_acc: 0.6387\n",
            "Epoch 17/100\n",
            "1250/1250 [==============================] - 53s 43ms/step - loss: 0.9854 - acc: 0.6630 - val_loss: 0.9279 - val_acc: 0.6782\n",
            "Epoch 18/100\n",
            "1250/1250 [==============================] - 54s 43ms/step - loss: 0.9731 - acc: 0.6694 - val_loss: 0.9005 - val_acc: 0.6851\n",
            "Epoch 19/100\n",
            "1250/1250 [==============================] - 53s 42ms/step - loss: 0.9647 - acc: 0.6724 - val_loss: 0.9349 - val_acc: 0.6680\n",
            "Epoch 20/100\n",
            "1250/1250 [==============================] - 54s 43ms/step - loss: 0.9433 - acc: 0.6785 - val_loss: 0.9507 - val_acc: 0.6668\n",
            "Epoch 21/100\n",
            "1250/1250 [==============================] - 54s 43ms/step - loss: 0.9374 - acc: 0.6835 - val_loss: 0.9524 - val_acc: 0.6658\n",
            "Epoch 22/100\n",
            "1250/1250 [==============================] - 53s 43ms/step - loss: 0.9249 - acc: 0.6871 - val_loss: 0.9130 - val_acc: 0.6864\n",
            "Epoch 23/100\n",
            "1250/1250 [==============================] - 53s 43ms/step - loss: 0.9127 - acc: 0.6907 - val_loss: 1.0162 - val_acc: 0.6506\n",
            "Epoch 24/100\n",
            "1250/1250 [==============================] - 55s 44ms/step - loss: 0.8990 - acc: 0.6977 - val_loss: 0.9567 - val_acc: 0.6703\n",
            "Epoch 25/100\n",
            "1250/1250 [==============================] - 53s 43ms/step - loss: 0.8968 - acc: 0.6964 - val_loss: 0.8826 - val_acc: 0.6964\n",
            "Epoch 26/100\n",
            "1250/1250 [==============================] - 53s 42ms/step - loss: 0.8784 - acc: 0.7056 - val_loss: 0.8473 - val_acc: 0.7132\n",
            "Epoch 27/100\n",
            "1250/1250 [==============================] - 51s 41ms/step - loss: 0.8734 - acc: 0.7064 - val_loss: 0.9218 - val_acc: 0.6841\n",
            "Epoch 28/100\n",
            "1250/1250 [==============================] - 51s 41ms/step - loss: 0.8674 - acc: 0.7069 - val_loss: 0.8183 - val_acc: 0.7194\n",
            "Epoch 29/100\n",
            "1250/1250 [==============================] - 51s 41ms/step - loss: 0.8545 - acc: 0.7127 - val_loss: 0.8087 - val_acc: 0.7195\n",
            "Epoch 30/100\n",
            "1250/1250 [==============================] - 54s 43ms/step - loss: 0.8531 - acc: 0.7117 - val_loss: 0.7912 - val_acc: 0.7248\n",
            "Epoch 31/100\n",
            "1250/1250 [==============================] - 51s 41ms/step - loss: 0.8352 - acc: 0.7207 - val_loss: 0.7771 - val_acc: 0.7367\n",
            "Epoch 32/100\n",
            "1250/1250 [==============================] - 52s 41ms/step - loss: 0.8322 - acc: 0.7212 - val_loss: 1.0571 - val_acc: 0.6753\n",
            "Epoch 33/100\n",
            "1250/1250 [==============================] - 50s 40ms/step - loss: 0.8243 - acc: 0.7239 - val_loss: 0.7878 - val_acc: 0.7318\n",
            "Epoch 34/100\n",
            "1250/1250 [==============================] - 51s 41ms/step - loss: 0.8282 - acc: 0.7244 - val_loss: 0.7895 - val_acc: 0.7286\n",
            "Epoch 35/100\n",
            "1250/1250 [==============================] - 50s 40ms/step - loss: 0.8056 - acc: 0.7300 - val_loss: 0.7550 - val_acc: 0.7372\n",
            "Epoch 36/100\n",
            "1250/1250 [==============================] - 51s 41ms/step - loss: 0.8037 - acc: 0.7315 - val_loss: 0.8166 - val_acc: 0.7182\n",
            "Epoch 37/100\n",
            "1250/1250 [==============================] - 50s 40ms/step - loss: 0.8010 - acc: 0.7341 - val_loss: 0.7432 - val_acc: 0.7472\n",
            "Epoch 38/100\n",
            "1250/1250 [==============================] - 52s 42ms/step - loss: 0.8001 - acc: 0.7323 - val_loss: 0.7715 - val_acc: 0.7313\n",
            "Epoch 39/100\n",
            "1250/1250 [==============================] - 53s 42ms/step - loss: 0.7920 - acc: 0.7370 - val_loss: 0.7311 - val_acc: 0.7501\n",
            "Epoch 40/100\n",
            "1250/1250 [==============================] - 51s 41ms/step - loss: 0.7845 - acc: 0.7390 - val_loss: 0.7643 - val_acc: 0.7432\n",
            "Epoch 41/100\n",
            "1250/1250 [==============================] - 51s 41ms/step - loss: 0.7833 - acc: 0.7408 - val_loss: 0.7909 - val_acc: 0.7286\n",
            "Epoch 42/100\n",
            "1250/1250 [==============================] - 50s 40ms/step - loss: 0.7729 - acc: 0.7452 - val_loss: 0.8908 - val_acc: 0.7083\n",
            "Epoch 43/100\n",
            "1250/1250 [==============================] - 50s 40ms/step - loss: 0.7625 - acc: 0.7465 - val_loss: 0.8112 - val_acc: 0.7268\n",
            "Epoch 44/100\n",
            "1250/1250 [==============================] - 52s 41ms/step - loss: 0.7674 - acc: 0.7431 - val_loss: 0.7985 - val_acc: 0.7313\n",
            "Epoch 45/100\n",
            "1250/1250 [==============================] - 50s 40ms/step - loss: 0.7581 - acc: 0.7488 - val_loss: 0.7622 - val_acc: 0.7403\n",
            "Epoch 46/100\n",
            "1250/1250 [==============================] - 49s 39ms/step - loss: 0.7517 - acc: 0.7494 - val_loss: 0.7182 - val_acc: 0.7563\n",
            "Epoch 47/100\n",
            "1250/1250 [==============================] - 49s 39ms/step - loss: 0.7535 - acc: 0.7519 - val_loss: 0.6926 - val_acc: 0.7648\n",
            "Epoch 48/100\n",
            "1250/1250 [==============================] - 50s 40ms/step - loss: 0.7406 - acc: 0.7528 - val_loss: 0.9599 - val_acc: 0.6974\n",
            "Epoch 49/100\n",
            "1250/1250 [==============================] - 51s 40ms/step - loss: 0.7355 - acc: 0.7561 - val_loss: 0.8280 - val_acc: 0.7258\n",
            "Epoch 50/100\n",
            "1250/1250 [==============================] - 51s 41ms/step - loss: 0.7340 - acc: 0.7563 - val_loss: 0.7533 - val_acc: 0.7433\n",
            "Epoch 51/100\n",
            "1250/1250 [==============================] - 50s 40ms/step - loss: 0.7283 - acc: 0.7596 - val_loss: 0.7989 - val_acc: 0.7355\n",
            "Epoch 52/100\n",
            "1250/1250 [==============================] - 49s 39ms/step - loss: 0.7242 - acc: 0.7598 - val_loss: 0.7101 - val_acc: 0.7619\n",
            "Epoch 53/100\n",
            "1250/1250 [==============================] - 50s 40ms/step - loss: 0.7138 - acc: 0.7626 - val_loss: 0.7294 - val_acc: 0.7529\n",
            "Epoch 54/100\n",
            "1250/1250 [==============================] - 50s 40ms/step - loss: 0.7246 - acc: 0.7608 - val_loss: 0.7204 - val_acc: 0.7549\n",
            "Epoch 55/100\n",
            "1250/1250 [==============================] - 50s 40ms/step - loss: 0.7147 - acc: 0.7638 - val_loss: 0.6985 - val_acc: 0.7666\n",
            "Epoch 56/100\n",
            "1250/1250 [==============================] - 49s 39ms/step - loss: 0.7055 - acc: 0.7681 - val_loss: 0.7118 - val_acc: 0.7603\n",
            "Epoch 57/100\n",
            "1250/1250 [==============================] - 51s 41ms/step - loss: 0.7065 - acc: 0.7674 - val_loss: 0.6795 - val_acc: 0.7662\n",
            "Epoch 58/100\n",
            "1250/1250 [==============================] - 49s 39ms/step - loss: 0.7015 - acc: 0.7679 - val_loss: 0.6666 - val_acc: 0.7732\n",
            "Epoch 59/100\n",
            "1250/1250 [==============================] - 48s 39ms/step - loss: 0.7010 - acc: 0.7694 - val_loss: 0.6559 - val_acc: 0.7784\n",
            "Epoch 60/100\n",
            "1250/1250 [==============================] - 50s 40ms/step - loss: 0.7004 - acc: 0.7670 - val_loss: 0.7267 - val_acc: 0.7580\n",
            "Epoch 61/100\n",
            "1250/1250 [==============================] - 50s 40ms/step - loss: 0.6896 - acc: 0.7710 - val_loss: 0.6438 - val_acc: 0.7785\n",
            "Epoch 62/100\n",
            "1250/1250 [==============================] - 49s 40ms/step - loss: 0.6872 - acc: 0.7723 - val_loss: 0.6914 - val_acc: 0.7711\n",
            "Epoch 63/100\n",
            "1250/1250 [==============================] - 51s 41ms/step - loss: 0.6869 - acc: 0.7737 - val_loss: 0.6397 - val_acc: 0.7842\n",
            "Epoch 64/100\n",
            "1250/1250 [==============================] - 49s 39ms/step - loss: 0.6888 - acc: 0.7697 - val_loss: 0.6633 - val_acc: 0.7756\n",
            "Epoch 65/100\n",
            "1250/1250 [==============================] - 49s 39ms/step - loss: 0.6829 - acc: 0.7761 - val_loss: 0.7327 - val_acc: 0.7559\n",
            "Epoch 66/100\n",
            "1250/1250 [==============================] - 50s 40ms/step - loss: 0.6760 - acc: 0.7771 - val_loss: 0.6120 - val_acc: 0.7916\n",
            "Epoch 67/100\n",
            "1250/1250 [==============================] - 49s 39ms/step - loss: 0.6850 - acc: 0.7733 - val_loss: 0.6885 - val_acc: 0.7669\n",
            "Epoch 68/100\n",
            "1250/1250 [==============================] - 49s 39ms/step - loss: 0.6799 - acc: 0.7739 - val_loss: 0.8528 - val_acc: 0.7350\n",
            "Epoch 69/100\n",
            "1250/1250 [==============================] - 51s 41ms/step - loss: 0.6712 - acc: 0.7812 - val_loss: 0.6603 - val_acc: 0.7749\n",
            "Epoch 70/100\n",
            "1250/1250 [==============================] - 49s 39ms/step - loss: 0.6736 - acc: 0.7770 - val_loss: 0.7603 - val_acc: 0.7458\n",
            "Epoch 71/100\n",
            "1250/1250 [==============================] - 49s 39ms/step - loss: 0.6682 - acc: 0.7820 - val_loss: 0.6240 - val_acc: 0.7916\n",
            "Epoch 72/100\n",
            "1250/1250 [==============================] - 50s 40ms/step - loss: 0.6702 - acc: 0.7782 - val_loss: 0.6446 - val_acc: 0.7825\n",
            "Epoch 73/100\n",
            "1250/1250 [==============================] - 50s 40ms/step - loss: 0.6621 - acc: 0.7833 - val_loss: 0.6236 - val_acc: 0.7930\n",
            "Epoch 74/100\n",
            "1250/1250 [==============================] - 51s 41ms/step - loss: 0.6607 - acc: 0.7841 - val_loss: 0.6091 - val_acc: 0.7918\n",
            "Epoch 75/100\n",
            "1250/1250 [==============================] - 50s 40ms/step - loss: 0.6601 - acc: 0.7838 - val_loss: 0.6110 - val_acc: 0.7930\n",
            "Epoch 76/100\n",
            "1250/1250 [==============================] - 51s 40ms/step - loss: 0.6546 - acc: 0.7843 - val_loss: 0.6412 - val_acc: 0.7886\n",
            "Epoch 77/100\n",
            "1250/1250 [==============================] - 49s 40ms/step - loss: 0.6486 - acc: 0.7876 - val_loss: 0.6377 - val_acc: 0.7870\n",
            "Epoch 78/100\n",
            "1250/1250 [==============================] - 50s 40ms/step - loss: 0.6628 - acc: 0.7831 - val_loss: 0.6011 - val_acc: 0.7974\n",
            "Epoch 79/100\n",
            "1250/1250 [==============================] - 49s 39ms/step - loss: 0.6502 - acc: 0.7875 - val_loss: 0.6495 - val_acc: 0.7761\n",
            "Epoch 80/100\n",
            "1250/1250 [==============================] - 50s 40ms/step - loss: 0.6452 - acc: 0.7893 - val_loss: 0.6098 - val_acc: 0.7982\n",
            "Epoch 81/100\n",
            "1250/1250 [==============================] - 49s 40ms/step - loss: 0.6531 - acc: 0.7867 - val_loss: 0.6184 - val_acc: 0.7868\n",
            "Epoch 82/100\n",
            "1250/1250 [==============================] - 51s 41ms/step - loss: 0.6492 - acc: 0.7893 - val_loss: 0.7433 - val_acc: 0.7630\n",
            "Epoch 83/100\n",
            "1250/1250 [==============================] - 50s 40ms/step - loss: 0.6447 - acc: 0.7875 - val_loss: 0.6380 - val_acc: 0.7875\n",
            "Epoch 84/100\n",
            "1250/1250 [==============================] - 50s 40ms/step - loss: 0.6516 - acc: 0.7878 - val_loss: 0.6367 - val_acc: 0.7871\n",
            "Epoch 85/100\n",
            "1250/1250 [==============================] - 50s 40ms/step - loss: 0.6393 - acc: 0.7917 - val_loss: 0.6359 - val_acc: 0.7857\n",
            "Epoch 86/100\n",
            "1250/1250 [==============================] - 50s 40ms/step - loss: 0.6399 - acc: 0.7906 - val_loss: 0.7027 - val_acc: 0.7698\n",
            "Epoch 87/100\n",
            "1250/1250 [==============================] - 50s 40ms/step - loss: 0.6386 - acc: 0.7899 - val_loss: 0.6241 - val_acc: 0.7856\n",
            "Epoch 88/100\n",
            "1250/1250 [==============================] - 52s 41ms/step - loss: 0.6424 - acc: 0.7902 - val_loss: 0.6064 - val_acc: 0.7979\n",
            "Epoch 89/100\n",
            "1250/1250 [==============================] - 50s 40ms/step - loss: 0.6414 - acc: 0.7913 - val_loss: 0.5733 - val_acc: 0.8037\n",
            "Epoch 90/100\n",
            "1250/1250 [==============================] - 50s 40ms/step - loss: 0.6406 - acc: 0.7911 - val_loss: 0.5657 - val_acc: 0.8084\n",
            "Epoch 91/100\n",
            "1250/1250 [==============================] - 51s 41ms/step - loss: 0.6378 - acc: 0.7928 - val_loss: 0.5886 - val_acc: 0.8018\n",
            "Epoch 92/100\n",
            "1250/1250 [==============================] - 50s 40ms/step - loss: 0.6279 - acc: 0.7965 - val_loss: 0.7252 - val_acc: 0.7574\n",
            "Epoch 93/100\n",
            "1250/1250 [==============================] - 50s 40ms/step - loss: 0.6403 - acc: 0.7919 - val_loss: 0.5692 - val_acc: 0.8091\n",
            "Epoch 94/100\n",
            "1250/1250 [==============================] - 51s 41ms/step - loss: 0.6285 - acc: 0.7960 - val_loss: 0.5996 - val_acc: 0.8019\n",
            "Epoch 95/100\n",
            "1250/1250 [==============================] - 50s 40ms/step - loss: 0.6304 - acc: 0.7981 - val_loss: 0.6206 - val_acc: 0.7912\n",
            "Epoch 96/100\n",
            "1250/1250 [==============================] - 49s 39ms/step - loss: 0.6312 - acc: 0.7957 - val_loss: 0.5807 - val_acc: 0.8067\n",
            "Epoch 97/100\n",
            "1250/1250 [==============================] - 50s 40ms/step - loss: 0.6255 - acc: 0.7973 - val_loss: 0.5968 - val_acc: 0.8027\n",
            "Epoch 98/100\n",
            "1250/1250 [==============================] - 49s 39ms/step - loss: 0.6359 - acc: 0.7934 - val_loss: 0.6657 - val_acc: 0.7801\n",
            "Epoch 99/100\n",
            "1250/1250 [==============================] - 49s 39ms/step - loss: 0.6224 - acc: 0.8002 - val_loss: 0.6029 - val_acc: 0.8035\n",
            "Epoch 100/100\n",
            "1250/1250 [==============================] - 52s 41ms/step - loss: 0.6278 - acc: 0.7955 - val_loss: 0.6566 - val_acc: 0.7822\n"
          ],
          "name": "stdout"
        }
      ]
    },
    {
      "metadata": {
        "id": "cSB6D_TmxPU8",
        "colab_type": "code",
        "colab": {
          "base_uri": "https://localhost:8080/",
          "height": 279
        },
        "outputId": "9251dfc8-da5e-44d4-c9da-30c6eef6807d"
      },
      "cell_type": "code",
      "source": [
        "import matplotlib.pyplot as plt\n",
        "%matplotlib inline\n",
        "\n",
        "acc = history.history['acc']\n",
        "val_acc = history.history['val_acc']\n",
        "\n",
        "epochs = range(len(acc))\n",
        "\n",
        "plt.plot(epochs, acc, 'bo', label='Training acc')\n",
        "plt.plot(epochs, val_acc, 'r', label='Validation acc')\n",
        "plt.xlabel('Epochs')\n",
        "plt.ylabel('Accuracy')\n",
        "plt.legend()\n",
        "plt.show()"
      ],
      "execution_count": 16,
      "outputs": [
        {
          "output_type": "display_data",
          "data": {
            "image/png": "[encoded data removed]",
            "text/plain": [
              "<Figure size 432x288 with 1 Axes>"
            ]
          },
          "metadata": {
            "tags": []
          }
        }
      ]
    },
    {
      "metadata": {
        "id": "Mo4Q2fR_tKV_",
        "colab_type": "code",
        "colab": {}
      },
      "cell_type": "code",
      "source": [
        ""
      ],
      "execution_count": 0,
      "outputs": []
    },
    {
      "metadata": {
        "id": "rDEBsf4eyCzQ",
        "colab_type": "text"
      },
      "cell_type": "markdown",
      "source": [
        "## **3. Train (again) and evaluate the model**"
      ]
    },
    {
      "metadata": {
        "id": "-_jthebvyJg7",
        "colab_type": "text"
      },
      "cell_type": "markdown",
      "source": [
        "**3.1. Train the model on the entire training set**"
      ]
    },
    {
      "metadata": {
        "id": "fgDrjJRC7rB7",
        "colab_type": "code",
        "colab": {}
      },
      "cell_type": "code",
      "source": [
        "learning_rate = 2E-4 \n",
        "model.compile(loss='categorical_crossentropy',\n",
        "              optimizer=optimizers.RMSprop(lr=learning_rate),\n",
        "              metrics=['acc'])"
      ],
      "execution_count": 0,
      "outputs": []
    },
    {
      "metadata": {
        "id": "QOJsg14_yGjT",
        "colab_type": "code",
        "colab": {
          "base_uri": "https://localhost:8080/",
          "height": 3537
        },
        "outputId": "71bc0cc0-ff66-45a9-b7cf-fd30e21de676"
      },
      "cell_type": "code",
      "source": [
        "train_generator = train_datagen.flow(\n",
        "    x_train,\n",
        "    y_train_vec,\n",
        "    batch_size = 32\n",
        ")\n",
        "history = model.fit_generator(\n",
        "        train_generator,\n",
        "        steps_per_epoch=x_train.shape[0] // 32,\n",
        "        epochs=100\n",
        ")"
      ],
      "execution_count": 18,
      "outputs": [
        {
          "output_type": "stream",
          "text": [
            "Epoch 1/100\n",
            "1562/1562 [==============================] - 48s 31ms/step - loss: 0.6281 - acc: 0.7981\n",
            "Epoch 2/100\n",
            "1562/1562 [==============================] - 47s 30ms/step - loss: 0.6269 - acc: 0.7993\n",
            "Epoch 3/100\n",
            "1562/1562 [==============================] - 46s 29ms/step - loss: 0.6292 - acc: 0.7984\n",
            "Epoch 4/100\n",
            "1562/1562 [==============================] - 46s 29ms/step - loss: 0.6192 - acc: 0.8001\n",
            "Epoch 5/100\n",
            "1562/1562 [==============================] - 45s 29ms/step - loss: 0.6283 - acc: 0.7953\n",
            "Epoch 6/100\n",
            "1562/1562 [==============================] - 47s 30ms/step - loss: 0.6214 - acc: 0.8011\n",
            "Epoch 7/100\n",
            "1562/1562 [==============================] - 45s 29ms/step - loss: 0.6237 - acc: 0.8014\n",
            "Epoch 8/100\n",
            "1562/1562 [==============================] - 45s 29ms/step - loss: 0.6208 - acc: 0.8011\n",
            "Epoch 9/100\n",
            "1562/1562 [==============================] - 45s 29ms/step - loss: 0.6199 - acc: 0.8022\n",
            "Epoch 10/100\n",
            "1562/1562 [==============================] - 45s 29ms/step - loss: 0.6231 - acc: 0.8025\n",
            "Epoch 11/100\n",
            "1562/1562 [==============================] - 44s 28ms/step - loss: 0.6234 - acc: 0.8002\n",
            "Epoch 12/100\n",
            "1562/1562 [==============================] - 44s 28ms/step - loss: 0.6160 - acc: 0.8024\n",
            "Epoch 13/100\n",
            "1562/1562 [==============================] - 46s 29ms/step - loss: 0.6234 - acc: 0.8025\n",
            "Epoch 14/100\n",
            "1562/1562 [==============================] - 45s 29ms/step - loss: 0.6279 - acc: 0.8002\n",
            "Epoch 15/100\n",
            "1562/1562 [==============================] - 46s 29ms/step - loss: 0.6165 - acc: 0.8030\n",
            "Epoch 16/100\n",
            "1562/1562 [==============================] - 45s 29ms/step - loss: 0.6200 - acc: 0.8020\n",
            "Epoch 17/100\n",
            "1562/1562 [==============================] - 45s 29ms/step - loss: 0.6083 - acc: 0.8060\n",
            "Epoch 18/100\n",
            "1562/1562 [==============================] - 46s 29ms/step - loss: 0.6233 - acc: 0.8025\n",
            "Epoch 19/100\n",
            "1562/1562 [==============================] - 45s 29ms/step - loss: 0.6164 - acc: 0.8066\n",
            "Epoch 20/100\n",
            "1562/1562 [==============================] - 46s 30ms/step - loss: 0.6244 - acc: 0.8033\n",
            "Epoch 21/100\n",
            "1562/1562 [==============================] - 45s 28ms/step - loss: 0.6251 - acc: 0.7995\n",
            "Epoch 22/100\n",
            "1562/1562 [==============================] - 45s 29ms/step - loss: 0.6241 - acc: 0.8027\n",
            "Epoch 23/100\n",
            "1562/1562 [==============================] - 44s 28ms/step - loss: 0.6252 - acc: 0.8013\n",
            "Epoch 24/100\n",
            "1562/1562 [==============================] - 44s 28ms/step - loss: 0.6295 - acc: 0.8021\n",
            "Epoch 25/100\n",
            "1562/1562 [==============================] - 44s 28ms/step - loss: 0.6247 - acc: 0.8029\n",
            "Epoch 26/100\n",
            "1562/1562 [==============================] - 44s 28ms/step - loss: 0.6353 - acc: 0.8043\n",
            "Epoch 27/100\n",
            "1562/1562 [==============================] - 46s 29ms/step - loss: 0.6438 - acc: 0.8015\n",
            "Epoch 28/100\n",
            "1562/1562 [==============================] - 44s 28ms/step - loss: 0.6289 - acc: 0.8022\n",
            "Epoch 29/100\n",
            "1562/1562 [==============================] - 45s 29ms/step - loss: 0.6431 - acc: 0.8024\n",
            "Epoch 30/100\n",
            "1562/1562 [==============================] - 44s 28ms/step - loss: 0.6405 - acc: 0.8027\n",
            "Epoch 31/100\n",
            "1562/1562 [==============================] - 44s 28ms/step - loss: 0.6188 - acc: 0.8068\n",
            "Epoch 32/100\n",
            "1562/1562 [==============================] - 43s 28ms/step - loss: 0.6352 - acc: 0.8039\n",
            "Epoch 33/100\n",
            "1562/1562 [==============================] - 44s 28ms/step - loss: 0.6326 - acc: 0.8064\n",
            "Epoch 34/100\n",
            "1562/1562 [==============================] - 46s 29ms/step - loss: 0.6406 - acc: 0.8036\n",
            "Epoch 35/100\n",
            "1562/1562 [==============================] - 44s 28ms/step - loss: 0.6213 - acc: 0.8086\n",
            "Epoch 36/100\n",
            "1562/1562 [==============================] - 45s 29ms/step - loss: 0.6459 - acc: 0.8017\n",
            "Epoch 37/100\n",
            "1562/1562 [==============================] - 44s 28ms/step - loss: 0.6276 - acc: 0.8068\n",
            "Epoch 38/100\n",
            "1562/1562 [==============================] - 44s 28ms/step - loss: 0.6297 - acc: 0.8080\n",
            "Epoch 39/100\n",
            "1562/1562 [==============================] - 43s 27ms/step - loss: 0.6417 - acc: 0.8070\n",
            "Epoch 40/100\n",
            "1562/1562 [==============================] - 43s 27ms/step - loss: 0.6471 - acc: 0.8036\n",
            "Epoch 41/100\n",
            "1562/1562 [==============================] - 45s 29ms/step - loss: 0.6385 - acc: 0.8070\n",
            "Epoch 42/100\n",
            "1562/1562 [==============================] - 44s 28ms/step - loss: 0.6331 - acc: 0.8062\n",
            "Epoch 43/100\n",
            "1562/1562 [==============================] - 46s 29ms/step - loss: 0.6534 - acc: 0.8038\n",
            "Epoch 44/100\n",
            "1562/1562 [==============================] - 43s 28ms/step - loss: 0.6388 - acc: 0.8046\n",
            "Epoch 45/100\n",
            "1562/1562 [==============================] - 43s 28ms/step - loss: 0.6540 - acc: 0.8064\n",
            "Epoch 46/100\n",
            "1562/1562 [==============================] - 43s 28ms/step - loss: 0.6189 - acc: 0.8097\n",
            "Epoch 47/100\n",
            "1562/1562 [==============================] - 43s 27ms/step - loss: 0.6298 - acc: 0.8100\n",
            "Epoch 48/100\n",
            "1562/1562 [==============================] - 45s 29ms/step - loss: 0.6518 - acc: 0.8063\n",
            "Epoch 49/100\n",
            "1562/1562 [==============================] - 43s 28ms/step - loss: 0.6528 - acc: 0.8053\n",
            "Epoch 50/100\n",
            "1562/1562 [==============================] - 44s 28ms/step - loss: 0.6435 - acc: 0.8075\n",
            "Epoch 51/100\n",
            "1562/1562 [==============================] - 44s 28ms/step - loss: 0.6530 - acc: 0.8095\n",
            "Epoch 52/100\n",
            "1562/1562 [==============================] - 46s 29ms/step - loss: 0.6660 - acc: 0.8059\n",
            "Epoch 53/100\n",
            "1562/1562 [==============================] - 45s 29ms/step - loss: 0.6583 - acc: 0.8056\n",
            "Epoch 54/100\n",
            "1562/1562 [==============================] - 44s 28ms/step - loss: 0.6762 - acc: 0.8062\n",
            "Epoch 55/100\n",
            "1562/1562 [==============================] - 45s 29ms/step - loss: 0.6621 - acc: 0.8062\n",
            "Epoch 56/100\n",
            "1562/1562 [==============================] - 43s 28ms/step - loss: 0.6664 - acc: 0.8063\n",
            "Epoch 57/100\n",
            "1562/1562 [==============================] - 44s 28ms/step - loss: 0.6585 - acc: 0.8086\n",
            "Epoch 58/100\n",
            "1562/1562 [==============================] - 44s 28ms/step - loss: 0.6591 - acc: 0.8063\n",
            "Epoch 59/100\n",
            "1562/1562 [==============================] - 43s 28ms/step - loss: 0.6675 - acc: 0.8064\n",
            "Epoch 60/100\n",
            "1562/1562 [==============================] - 43s 28ms/step - loss: 0.6783 - acc: 0.8090\n",
            "Epoch 61/100\n",
            "1562/1562 [==============================] - 43s 28ms/step - loss: 0.6946 - acc: 0.8059\n",
            "Epoch 62/100\n",
            "1562/1562 [==============================] - 45s 29ms/step - loss: 0.6601 - acc: 0.8090\n",
            "Epoch 63/100\n",
            "1562/1562 [==============================] - 43s 27ms/step - loss: 0.6928 - acc: 0.8072\n",
            "Epoch 64/100\n",
            "1562/1562 [==============================] - 45s 29ms/step - loss: 0.6881 - acc: 0.8091\n",
            "Epoch 65/100\n",
            "1562/1562 [==============================] - 44s 28ms/step - loss: 0.6837 - acc: 0.8076\n",
            "Epoch 66/100\n",
            "1562/1562 [==============================] - 44s 28ms/step - loss: 0.6928 - acc: 0.8069\n",
            "Epoch 67/100\n",
            "1562/1562 [==============================] - 44s 28ms/step - loss: 0.6944 - acc: 0.8071\n",
            "Epoch 68/100\n",
            "1562/1562 [==============================] - 44s 28ms/step - loss: 0.6909 - acc: 0.8061\n",
            "Epoch 69/100\n",
            "1562/1562 [==============================] - 45s 29ms/step - loss: 0.7216 - acc: 0.8051\n",
            "Epoch 70/100\n",
            "1562/1562 [==============================] - 44s 28ms/step - loss: 0.6958 - acc: 0.8064\n",
            "Epoch 71/100\n",
            "1562/1562 [==============================] - 45s 29ms/step - loss: 0.6699 - acc: 0.8093\n",
            "Epoch 72/100\n",
            "1562/1562 [==============================] - 44s 28ms/step - loss: 0.6919 - acc: 0.8078\n",
            "Epoch 73/100\n",
            "1562/1562 [==============================] - 44s 28ms/step - loss: 0.7215 - acc: 0.8057\n",
            "Epoch 74/100\n",
            "1562/1562 [==============================] - 43s 28ms/step - loss: 0.6924 - acc: 0.8070\n",
            "Epoch 75/100\n",
            "1562/1562 [==============================] - 44s 28ms/step - loss: 0.6950 - acc: 0.8076\n",
            "Epoch 76/100\n",
            "1562/1562 [==============================] - 45s 29ms/step - loss: 0.6781 - acc: 0.8096\n",
            "Epoch 77/100\n",
            "1562/1562 [==============================] - 44s 28ms/step - loss: 0.6922 - acc: 0.8089\n",
            "Epoch 78/100\n",
            "1562/1562 [==============================] - 45s 29ms/step - loss: 0.7136 - acc: 0.8076\n",
            "Epoch 79/100\n",
            "1562/1562 [==============================] - 44s 28ms/step - loss: 0.7041 - acc: 0.8076\n",
            "Epoch 80/100\n",
            "1562/1562 [==============================] - 43s 28ms/step - loss: 0.6787 - acc: 0.8106\n",
            "Epoch 81/100\n",
            "1562/1562 [==============================] - 43s 28ms/step - loss: 0.7012 - acc: 0.8095\n",
            "Epoch 82/100\n",
            "1562/1562 [==============================] - 44s 28ms/step - loss: 0.6718 - acc: 0.8106\n",
            "Epoch 83/100\n",
            "1562/1562 [==============================] - 45s 29ms/step - loss: 0.6779 - acc: 0.8106\n",
            "Epoch 84/100\n",
            "1562/1562 [==============================] - 45s 29ms/step - loss: 0.6869 - acc: 0.8122\n",
            "Epoch 85/100\n",
            "1562/1562 [==============================] - 43s 28ms/step - loss: 0.6910 - acc: 0.8089\n",
            "Epoch 86/100\n",
            "1562/1562 [==============================] - 43s 28ms/step - loss: 0.6714 - acc: 0.8112\n",
            "Epoch 87/100\n",
            "1562/1562 [==============================] - 43s 28ms/step - loss: 0.7096 - acc: 0.8086\n",
            "Epoch 88/100\n",
            "1562/1562 [==============================] - 43s 27ms/step - loss: 0.6807 - acc: 0.8135\n",
            "Epoch 89/100\n",
            "1562/1562 [==============================] - 43s 28ms/step - loss: 0.6728 - acc: 0.8141\n",
            "Epoch 90/100\n",
            "1562/1562 [==============================] - 45s 29ms/step - loss: 0.6585 - acc: 0.8170\n",
            "Epoch 91/100\n",
            "1562/1562 [==============================] - 44s 28ms/step - loss: 0.6655 - acc: 0.8142\n",
            "Epoch 92/100\n",
            "1562/1562 [==============================] - 44s 28ms/step - loss: 0.6676 - acc: 0.8120\n",
            "Epoch 93/100\n",
            "1562/1562 [==============================] - 43s 28ms/step - loss: 0.6637 - acc: 0.8122\n",
            "Epoch 94/100\n",
            "1562/1562 [==============================] - 43s 27ms/step - loss: 0.6515 - acc: 0.8166\n",
            "Epoch 95/100\n",
            "1562/1562 [==============================] - 43s 27ms/step - loss: 0.6640 - acc: 0.8130\n",
            "Epoch 96/100\n",
            "1562/1562 [==============================] - 43s 27ms/step - loss: 0.6526 - acc: 0.8143\n",
            "Epoch 97/100\n",
            "1562/1562 [==============================] - 45s 29ms/step - loss: 0.6556 - acc: 0.8171\n",
            "Epoch 98/100\n",
            "1562/1562 [==============================] - 44s 28ms/step - loss: 0.6529 - acc: 0.8143\n",
            "Epoch 99/100\n",
            "1562/1562 [==============================] - 44s 28ms/step - loss: 0.6480 - acc: 0.8188\n",
            "Epoch 100/100\n",
            "1562/1562 [==============================] - 43s 27ms/step - loss: 0.6533 - acc: 0.8174\n"
          ],
          "name": "stdout"
        }
      ]
    },
    {
      "metadata": {
        "id": "JlOdMqfobqCS",
        "colab_type": "code",
        "colab": {}
      },
      "cell_type": "code",
      "source": [
        "model.save(\"final_model.h5\")"
      ],
      "execution_count": 0,
      "outputs": []
    },
    {
      "metadata": {
        "id": "xEBhNQFAyHVS",
        "colab_type": "text"
      },
      "cell_type": "markdown",
      "source": [
        "**3.2. Evaluate the model on the test set**"
      ]
    },
    {
      "metadata": {
        "id": "oVd7outaHhya",
        "colab_type": "code",
        "colab": {
          "base_uri": "https://localhost:8080/",
          "height": 70
        },
        "outputId": "85e7cc49-c8cc-4267-c924-a0dac2885126"
      },
      "cell_type": "code",
      "source": [
        "loss_and_acc = model.evaluate(x_test, y_test_vec)\n",
        "print('loss = ' + str(loss_and_acc[0]))\n",
        "print('accuracy = ' + str(loss_and_acc[1]))"
      ],
      "execution_count": 20,
      "outputs": [
        {
          "output_type": "stream",
          "text": [
            "10000/10000 [==============================] - 2s 238us/step\n",
            "loss = 0.5661867559671402\n",
            "accuracy = 0.8338\n"
          ],
          "name": "stdout"
        }
      ]
    },
    {
      "metadata": {
        "id": "0yHgoe-xIxH8",
        "colab_type": "code",
        "colab": {}
      },
      "cell_type": "code",
      "source": [
        ""
      ],
      "execution_count": 0,
      "outputs": []
    }
  ]
}